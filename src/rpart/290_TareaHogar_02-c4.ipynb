{
  "cells": [
    {
      "cell_type": "markdown",
      "metadata": {
        "id": "view-in-github",
        "colab_type": "text"
      },
      "source": [
        "<a href=\"https://colab.research.google.com/github/carlos-aular-ds/labo2025v/blob/desktop/src/rpart/290_TareaHogar_02-c4.ipynb\" target=\"_parent\"><img src=\"https://colab.research.google.com/assets/colab-badge.svg\" alt=\"Open In Colab\"/></a>"
      ]
    },
    {
      "cell_type": "markdown",
      "metadata": {
        "id": "F3r8aa3pBigj"
      },
      "source": [
        "# Tarea para el Hogar 02"
      ]
    },
    {
      "cell_type": "markdown",
      "metadata": {
        "id": "nBm4ktHUBmZt"
      },
      "source": [
        "Esta Tarea para el Hogar 02 se entrega el final de la segunda clase\n",
        "<br> se espera de usted que intente avanzar con los desafios propuestos y que los traiga terminados para la Clase 03, ya que se analizarán los resultados"
      ]
    },
    {
      "cell_type": "markdown",
      "metadata": {
        "id": "TK-M04ElCESC"
      },
      "source": [
        "##  1. Ensembles de Modelos"
      ]
    },
    {
      "cell_type": "markdown",
      "metadata": {
        "id": "biPYxgobCOSS"
      },
      "source": [
        "Vea el siguiente video [BBC - The Code - The Wisdom of the Crowd](https://www.youtube.com/watch?v=iOucwX7Z1HU)    ( 5 min)\n"
      ]
    },
    {
      "cell_type": "markdown",
      "metadata": {
        "id": "FBszBRyNCcjp"
      },
      "source": [
        "Lea los siguientes artículos\n",
        "\n",
        "\n",
        "*   [The Wisdom of Crowds (Vox Populi) by Francis Galton](https://www.all-about-psychology.com/the-wisdom-of-crowds.html)  (10 min)\n",
        "*   [A Gentle Introduction to Ensemble Learning](https://machinelearningmastery.com/what-is-ensemble-learning/)  (10 min)\n",
        "\n"
      ]
    },
    {
      "cell_type": "markdown",
      "metadata": {
        "id": "x7SebtV2lpHQ"
      },
      "source": [
        "\n",
        "\n",
        "---\n",
        "\n"
      ]
    },
    {
      "cell_type": "markdown",
      "metadata": {
        "id": "NQcY8u2MDSLT"
      },
      "source": [
        "##  2.  Zero2Hero   primera parte\n",
        "Se han lanzado los primeros fascículos coleccionables llamados \"from Zero to Hero\" que muy detalladamente, paso a paso enseñan todo lo necesario de R para entender los scripts oficiales de la asignatura.\n",
        "Están en el repositorio oficial de la asignatura, carpeta  **src/zero2hero**"
      ]
    },
    {
      "cell_type": "markdown",
      "metadata": {
        "id": "GcO0OSiIEAGy"
      },
      "source": [
        "\n",
        "\n",
        "---\n",
        "\n"
      ]
    },
    {
      "cell_type": "markdown",
      "metadata": {
        "id": "6MStcyn0EBdT"
      },
      "source": [
        "## 3.  Grid Search"
      ]
    },
    {
      "cell_type": "markdown",
      "metadata": {
        "id": "gM8RKXDgEIY0"
      },
      "source": [
        "Busque en internet el precido significado de los hiperparámetros de la librería **rpart**  que está implementando el algoritmo **CART**  Classification and Regression Trees  propuesto en el año 1984 por Leo Brieman:\n",
        "\n",
        "*   cp\n",
        "*   maxdepth\n",
        "*   minsplit\n",
        "*   minbucket\n",
        "\n",
        "Entienda que valores es razonable tome cada hiperparámetro,  en particular profundice en el hiperparámetro  **cp**  y la posibilidad que tome valores negativos.  Es válido consultar a su amigo de *capacidades especiales*  ChatGPT\n"
      ]
    },
    {
      "cell_type": "markdown",
      "metadata": {
        "id": "_k7eT3HIFy9y"
      },
      "source": [
        "En las siguientes celdas a un notebook incompleto, un esqueleto de codigo brindado a modo de facilitarle la tarea de codeo y permitir que su valiosa cognición se concentre temas conceptuales de Ciencia de Datos\n",
        "\n",
        "Modifiquelo agregando loops para que recorra TODOS los hiperparámetros de rpart  < cp, maxdepth, minsplit, minbucket >, y luego póngalo a correr. Recuerde cambiar por SU semilla\n",
        "Tenga muy presente la granularidad que eligirá para cada hiperparámetro."
      ]
    },
    {
      "cell_type": "markdown",
      "metadata": {
        "id": "kmLygy1TYPfg"
      },
      "source": [
        "### Seteo del ambiente en Google Colab"
      ]
    },
    {
      "cell_type": "markdown",
      "metadata": {
        "id": "OikOm5K2YU3X"
      },
      "source": [
        "Esta parte se debe correr con el runtime en Python3\n",
        "<br>Ir al menu, Runtime -> Change Runtime Tipe -> Runtime type ->  **Python 3**"
      ]
    },
    {
      "cell_type": "markdown",
      "metadata": {
        "id": "4fmV5LyZdFyI"
      },
      "source": [
        "Conectar la virtual machine donde esta corriendo Google Colab con el  Google Drive, para poder tener persistencia de archivos"
      ]
    },
    {
      "cell_type": "code",
      "execution_count": 1,
      "metadata": {
        "id": "ilEZ-bE2VybW",
        "outputId": "349098db-f54b-4da7-f05d-e0d86aeab27a",
        "colab": {
          "base_uri": "https://localhost:8080/"
        }
      },
      "outputs": [
        {
          "output_type": "stream",
          "name": "stdout",
          "text": [
            "Mounted at /content/.drive\n"
          ]
        }
      ],
      "source": [
        "# primero establecer el Runtime de Python 3\n",
        "from google.colab import drive\n",
        "drive.mount('/content/.drive')"
      ]
    },
    {
      "cell_type": "markdown",
      "metadata": {
        "id": "ilaKtqWldeWg"
      },
      "source": [
        "Para correr la siguiente celda es fundamental en Arranque en Frio haber copiado el archivo kaggle.json al Google Drive, en la carpeta indicada en el instructivo\n",
        "\n",
        "<br>los siguientes comando estan en shell script de Linux\n",
        "*   Crear las carpetas en el Google Drive\n",
        "*   \"instalar\" el archivo kaggle.json desde el Google Drive a la virtual machine para que pueda ser utilizado por la libreria  kaggle de Python\n",
        "*   Bajar el  **dataset_pequeno**  al  Google Drive  y tambien al disco local de la virtual machine que esta corriendo Google Colab\n",
        "\n"
      ]
    },
    {
      "cell_type": "code",
      "execution_count": 2,
      "metadata": {
        "id": "W8dQFI5QYCFa",
        "outputId": "eee1830a-fc98-4886-f174-f3346cdbb312",
        "colab": {
          "base_uri": "https://localhost:8080/"
        }
      },
      "outputs": [
        {
          "output_type": "execute_result",
          "data": {
            "text/plain": []
          },
          "metadata": {},
          "execution_count": 2
        }
      ],
      "source": [
        "%%shell\n",
        "\n",
        "mkdir -p \"/content/.drive/My Drive/labo1\"\n",
        "mkdir -p \"/content/buckets\"\n",
        "ln -s \"/content/.drive/My Drive/labo1\" /content/buckets/b1\n",
        "\n",
        "mkdir -p ~/.kaggle\n",
        "cp /content/buckets/b1/kaggle/kaggle.json  ~/.kaggle\n",
        "chmod 600 ~/.kaggle/kaggle.json\n",
        "\n",
        "\n",
        "mkdir -p /content/buckets/b1/exp\n",
        "mkdir -p /content/buckets/b1/datasets\n",
        "mkdir -p /content/datasets\n",
        "\n",
        "\n",
        "\n",
        "archivo_origen=\"https://storage.googleapis.com/open-courses/austral2025-af91/dataset_pequeno.csv\"\n",
        "archivo_destino=\"/content/datasets/dataset_pequeno.csv\"\n",
        "archivo_destino_bucket=\"/content/buckets/b1/datasets/dataset_pequeno.csv\"\n",
        "\n",
        "if ! test -f $archivo_destino_bucket; then\n",
        "  wget  $archivo_origen  -O $archivo_destino_bucket\n",
        "fi\n",
        "\n",
        "\n",
        "if ! test -f $archivo_destino; then\n",
        "  cp  $archivo_destino_bucket  $archivo_destino\n",
        "fi\n",
        "\n"
      ]
    },
    {
      "cell_type": "markdown",
      "metadata": {
        "id": "SE94XRhWsxkX"
      },
      "source": [
        "limpio el ambiente de R"
      ]
    },
    {
      "cell_type": "code",
      "execution_count": 19,
      "metadata": {
        "id": "oZG_4br6szlT",
        "outputId": "2897ec19-500e-4c8c-d1c0-a34739522350",
        "colab": {
          "base_uri": "https://localhost:8080/",
          "height": 129
        }
      },
      "outputs": [
        {
          "output_type": "display_data",
          "data": {
            "text/html": [
              "<table class=\"dataframe\">\n",
              "<caption>A matrix: 2 × 6 of type dbl</caption>\n",
              "<thead>\n",
              "\t<tr><th></th><th scope=col>used</th><th scope=col>(Mb)</th><th scope=col>gc trigger</th><th scope=col>(Mb)</th><th scope=col>max used</th><th scope=col>(Mb)</th></tr>\n",
              "</thead>\n",
              "<tbody>\n",
              "\t<tr><th scope=row>Ncells</th><td> 810697</td><td>43.3</td><td> 1454474</td><td> 77.7</td><td> 1454474</td><td> 77.7</td></tr>\n",
              "\t<tr><th scope=row>Vcells</th><td>1521621</td><td>11.7</td><td>56779884</td><td>433.2</td><td>70974668</td><td>541.5</td></tr>\n",
              "</tbody>\n",
              "</table>\n"
            ],
            "text/markdown": "\nA matrix: 2 × 6 of type dbl\n\n| <!--/--> | used | (Mb) | gc trigger | (Mb) | max used | (Mb) |\n|---|---|---|---|---|---|---|\n| Ncells |  810697 | 43.3 |  1454474 |  77.7 |  1454474 |  77.7 |\n| Vcells | 1521621 | 11.7 | 56779884 | 433.2 | 70974668 | 541.5 |\n\n",
            "text/latex": "A matrix: 2 × 6 of type dbl\n\\begin{tabular}{r|llllll}\n  & used & (Mb) & gc trigger & (Mb) & max used & (Mb)\\\\\n\\hline\n\tNcells &  810697 & 43.3 &  1454474 &  77.7 &  1454474 &  77.7\\\\\n\tVcells & 1521621 & 11.7 & 56779884 & 433.2 & 70974668 & 541.5\\\\\n\\end{tabular}\n",
            "text/plain": [
              "       used    (Mb) gc trigger (Mb)  max used (Mb) \n",
              "Ncells  810697 43.3  1454474    77.7  1454474  77.7\n",
              "Vcells 1521621 11.7 56779884   433.2 70974668 541.5"
            ]
          },
          "metadata": {}
        }
      ],
      "source": [
        "# limpio la memoria\n",
        "rm(list=ls(all.names=TRUE)) # remove all objects\n",
        "gc(full=TRUE, verbose=FALSE) # garbage collection"
      ]
    },
    {
      "cell_type": "code",
      "execution_count": 20,
      "metadata": {
        "id": "JO-12d7YHkWy"
      },
      "outputs": [],
      "source": [
        "# cargo las librerias que necesito\n",
        "require(\"data.table\")\n",
        "require(\"rpart\")\n",
        "require(\"parallel\")\n",
        "if (!require(\"primes\")) install.packages(\"primes\")\n",
        "require(\"primes\")"
      ]
    },
    {
      "cell_type": "markdown",
      "metadata": {
        "id": "0MclPEJ6Q8Bp"
      },
      "source": [
        "Aqui debe poner SU semiila primigenia"
      ]
    },
    {
      "cell_type": "code",
      "execution_count": 21,
      "metadata": {
        "id": "Vt5fC6bWHu5r"
      },
      "outputs": [],
      "source": [
        "PARAM <- list()\n",
        "# reemplazar por su primer semilla\n",
        "PARAM$semilla_primigenia <- 111119\n",
        "PARAM$qsemillas <- 16\n",
        "\n",
        "PARAM$training_pct <- 70L  # entre  1L y 99L\n",
        "\n",
        "# elegir SU dataset comentando/ descomentando\n",
        "PARAM$dataset_nom <- \"~/datasets/dataset_pequeno.csv\""
      ]
    },
    {
      "cell_type": "code",
      "execution_count": 22,
      "metadata": {
        "id": "Z1dchsrWH4MD"
      },
      "outputs": [],
      "source": [
        "# particionar agrega una columna llamada fold a un dataset\n",
        "#  que consiste en una particion estratificada segun agrupa\n",
        "# particionar( data=dataset, division=c(70,30), agrupa=clase_ternaria, seed=semilla)\n",
        "#   crea una particion 70, 30\n",
        "\n",
        "particionar <- function(data, division, agrupa = \"\", campo = \"fold\", start = 1, seed = NA) {\n",
        "  if (!is.na(seed)) set.seed(seed)\n",
        "\n",
        "  bloque <- unlist(mapply(function(x, y) {\n",
        "    rep(y, x)\n",
        "  }, division, seq(from = start, length.out = length(division))))\n",
        "\n",
        "  data[, (campo) := sample(rep(bloque, ceiling(.N / length(bloque))))[1:.N],\n",
        "    by = agrupa\n",
        "  ]\n",
        "}\n"
      ]
    },
    {
      "cell_type": "code",
      "execution_count": 23,
      "metadata": {
        "id": "xsHwS1CzIA70"
      },
      "outputs": [],
      "source": [
        "ArbolEstimarGanancia <- function(semilla, training_pct, param_basicos) {\n",
        "  # particiono estratificadamente el dataset\n",
        "  particionar(dataset,\n",
        "    division = c(training_pct, 100L -training_pct),\n",
        "    agrupa = \"clase_ternaria\",\n",
        "    seed = semilla # aqui se usa SU semilla\n",
        "  )\n",
        "\n",
        "  # genero el modelo\n",
        "  # predecir clase_ternaria a partir del resto\n",
        "  modelo <- rpart(\"clase_ternaria ~ .\",\n",
        "    data = dataset[fold == 1], # fold==1  es training,  el 70% de los datos\n",
        "    xval = 0,\n",
        "    control = param_basicos\n",
        "  ) # aqui van los parametros del arbol\n",
        "\n",
        "  # aplico el modelo a los datos de testing\n",
        "  prediccion <- predict(modelo, # el modelo que genere recien\n",
        "    dataset[fold == 2], # fold==2  es testing, el 30% de los datos\n",
        "    type = \"prob\"\n",
        "  ) # type= \"prob\"  es que devuelva la probabilidad\n",
        "\n",
        "  # prediccion es una matriz con TRES columnas,\n",
        "  #  llamadas \"BAJA+1\", \"BAJA+2\"  y \"CONTINUA\"\n",
        "  # cada columna es el vector de probabilidades\n",
        "\n",
        "\n",
        "  # calculo la ganancia en testing  qu es fold==2\n",
        "  ganancia_test <- dataset[\n",
        "    fold == 2,\n",
        "    sum(ifelse(prediccion[, \"BAJA+2\"] > 0.025,\n",
        "      ifelse(clase_ternaria == \"BAJA+2\", 117000, -3000),\n",
        "      0\n",
        "    ))\n",
        "  ]\n",
        "\n",
        "  # escalo la ganancia como si fuera todo el dataset\n",
        "  ganancia_test_normalizada <- ganancia_test / (( 100 - PARAM$training_pct ) / 100 )\n",
        "\n",
        "  return(\n",
        "    c( list(\"semilla\" = semilla),\n",
        "      param_basicos,\n",
        "      list( \"ganancia_test\" = ganancia_test_normalizada )\n",
        "     )\n",
        "  )\n",
        "}\n"
      ]
    },
    {
      "cell_type": "code",
      "execution_count": 24,
      "metadata": {
        "id": "BvBVOuhqIEjD"
      },
      "outputs": [],
      "source": [
        "ArbolesMontecarlo <- function(semillas, param_basicos) {\n",
        "\n",
        "  # la funcion mcmapply  llama a la funcion ArbolEstimarGanancia\n",
        "  #  tantas veces como valores tenga el vector  PARAM$semillas\n",
        "  salida <- mcmapply(ArbolEstimarGanancia,\n",
        "    semillas, # paso el vector de semillas\n",
        "    MoreArgs = list(PARAM$training_pct, param_basicos), # aqui paso el segundo parametro\n",
        "    SIMPLIFY = FALSE,\n",
        "    mc.cores = detectCores()\n",
        "  )\n",
        "\n",
        "  return(salida)\n",
        "}\n"
      ]
    },
    {
      "cell_type": "code",
      "execution_count": 25,
      "metadata": {
        "id": "L-DOGHOjIG7G"
      },
      "outputs": [],
      "source": [
        "# carpeta de trabajo\n",
        "# por fabor cambiar numero de experimento si se cambia el loop principal\n",
        "setwd(\"/content/buckets/b1/exp\")\n",
        "experimento <- \"HT2900-clase4-2\"\n",
        "dir.create(experimento, showWarnings=FALSE)\n",
        "setwd( paste0(\"/content/buckets/b1/exp/\", experimento ))"
      ]
    },
    {
      "cell_type": "code",
      "execution_count": 26,
      "metadata": {
        "id": "NM-mrLWcIPo6"
      },
      "outputs": [],
      "source": [
        "# lectura del dataset\n",
        "dataset <- fread(\"/content/datasets/dataset_pequeno.csv\")\n",
        "\n",
        "# trabajo solo con los datos con clase, es decir 202107\n",
        "dataset <- dataset[clase_ternaria != \"\"]"
      ]
    },
    {
      "cell_type": "code",
      "execution_count": 27,
      "metadata": {
        "id": "tSlY0EcgIWdi"
      },
      "outputs": [],
      "source": [
        "\n",
        "# genero numeros primos\n",
        "primos <- generate_primes(min = 100000, max = 1000000)\n",
        "set.seed(PARAM$semilla_primigenia) # inicializo\n",
        "# me quedo con PARAM$qsemillas   semillas\n",
        "PARAM$semillas <- sample(primos, PARAM$qsemillas )\n"
      ]
    },
    {
      "cell_type": "code",
      "execution_count": 28,
      "metadata": {
        "id": "xxCAwIKyIaTl",
        "outputId": "c755f692-6f68-4b36-926d-f27e78d6a97f",
        "colab": {
          "base_uri": "https://localhost:8080/",
          "height": 34
        }
      },
      "outputs": [
        {
          "output_type": "display_data",
          "data": {
            "text/html": [
              "0"
            ],
            "text/markdown": "0",
            "text/latex": "0",
            "text/plain": [
              "[1] 0"
            ]
          },
          "metadata": {}
        }
      ],
      "source": [
        "# genero la data.table donde van los resultados detallados del Grid Search\n",
        "# un registro para cada combinacion de < semilla, parametros >\n",
        "\n",
        "if(file.exists(\"gridsearch_detalle.txt\")){\n",
        "  tb_grid_search_detalle <- fread(\"gridsearch_detalle.txt\")\n",
        "}else{\n",
        "  tb_grid_search_detalle <- data.table(\n",
        "    semilla = integer(),\n",
        "    cp = numeric(),\n",
        "    maxdepth = integer(),\n",
        "   minsplit = integer(),\n",
        "    minbucket = integer(),\n",
        "    ganancia_test = numeric()\n",
        "  )\n",
        "}\n",
        "\n",
        "nrow( tb_grid_search_detalle )"
      ]
    },
    {
      "cell_type": "markdown",
      "metadata": {
        "id": "eAuGBNL8IkOD"
      },
      "source": [
        "Esta es la parte del código que usted debe expandir a TODOS los hiperparámetros de rpart,\n",
        "<br>ya que actualmente apenas recorre  maxdepth y  minsplit  dejando fijos  cp=-0.5  y minbucket=5"
      ]
    },
    {
      "cell_type": "code",
      "execution_count": 29,
      "metadata": {
        "id": "ipLHm3STIfmb",
        "colab": {
          "base_uri": "https://localhost:8080/"
        },
        "outputId": "143cd836-cfd4-4e76-8f84-2586da298f18"
      },
      "outputs": [
        {
          "output_type": "stream",
          "name": "stdout",
          "text": [
            "1  "
          ]
        }
      ],
      "source": [
        "\n",
        "# itero por los loops anidados para cada hiperparametro\n",
        "iter <- 0\n",
        "\n",
        "for (vmax_depth in c(8)) {\n",
        "  for (vmin_split in c(1000)) {\n",
        "    # notar como se agrega\n",
        "\n",
        "    iter <- iter + 1\n",
        "    cat( iter, \" \" )\n",
        "    flush.console()\n",
        "    if( iter*PARAM$qsemillas < nrow(tb_grid_search_detalle)+1 ) next\n",
        "\n",
        "    # vminsplit  minima cantidad de registros en un nodo para hacer el split\n",
        "    param_basicos <- list(\n",
        "      \"cp\" = -1, # complejidad minima\n",
        "      \"maxdepth\" = vmax_depth, # profundidad máxima del arbol\n",
        "      \"minsplit\" = vmin_split, # tamaño minimo de nodo para hacer split\n",
        "      \"minbucket\" = 30 # minima cantidad de registros en una hoja\n",
        "    )\n",
        "\n",
        "    # Un solo llamado, con la semilla 17\n",
        "    ganancias <- ArbolesMontecarlo(PARAM$semillas, param_basicos)\n",
        "\n",
        "    # agrego a la tabla\n",
        "    tb_grid_search_detalle <- rbindlist(\n",
        "      list( tb_grid_search_detalle,\n",
        "            rbindlist(ganancias) )\n",
        "    )\n",
        "\n",
        "  }\n",
        "\n",
        "  # grabo cada vez TODA la tabla en el loop mas externo\n",
        "  fwrite( tb_grid_search_detalle,\n",
        "          file = \"gridsearch_detalle.txt\",\n",
        "          sep = \"\\t\" )\n",
        "}\n"
      ]
    },
    {
      "cell_type": "code",
      "execution_count": 30,
      "metadata": {
        "id": "WZaSqYBxiDFu"
      },
      "outputs": [],
      "source": [
        "fwrite( tb_grid_search_detalle,\n",
        "   file = \"gridsearch_detalle.txt\",\n",
        "   sep = \"\\t\"\n",
        ")"
      ]
    },
    {
      "cell_type": "code",
      "execution_count": 31,
      "metadata": {
        "id": "STp0duM-RYVJ",
        "outputId": "20b1e472-e5ff-4774-8201-ce757c07cf2e",
        "colab": {
          "base_uri": "https://localhost:8080/",
          "height": 34
        }
      },
      "outputs": [
        {
          "output_type": "display_data",
          "data": {
            "text/html": [
              "16"
            ],
            "text/markdown": "16",
            "text/latex": "16",
            "text/plain": [
              "[1] 16"
            ]
          },
          "metadata": {}
        }
      ],
      "source": [
        "# cantidad de registros de la tabla\n",
        "nrow(tb_grid_search_detalle)"
      ]
    },
    {
      "cell_type": "code",
      "execution_count": 32,
      "metadata": {
        "id": "k7fhk_H0iNez",
        "outputId": "a03c334a-3035-4b64-ef42-f787602b2c59",
        "colab": {
          "base_uri": "https://localhost:8080/",
          "height": 600
        }
      },
      "outputs": [
        {
          "output_type": "display_data",
          "data": {
            "text/html": [
              "<table class=\"dataframe\">\n",
              "<caption>A data.table: 16 × 6</caption>\n",
              "<thead>\n",
              "\t<tr><th scope=col>semilla</th><th scope=col>cp</th><th scope=col>maxdepth</th><th scope=col>minsplit</th><th scope=col>minbucket</th><th scope=col>ganancia_test</th></tr>\n",
              "\t<tr><th scope=col>&lt;int&gt;</th><th scope=col>&lt;dbl&gt;</th><th scope=col>&lt;dbl&gt;</th><th scope=col>&lt;dbl&gt;</th><th scope=col>&lt;dbl&gt;</th><th scope=col>&lt;dbl&gt;</th></tr>\n",
              "</thead>\n",
              "<tbody>\n",
              "\t<tr><td>989753</td><td>-1</td><td>8</td><td>1000</td><td>30</td><td>46580000</td></tr>\n",
              "\t<tr><td>609751</td><td>-1</td><td>8</td><td>1000</td><td>30</td><td>49170000</td></tr>\n",
              "\t<tr><td>417511</td><td>-1</td><td>8</td><td>1000</td><td>30</td><td>44370000</td></tr>\n",
              "\t<tr><td>243553</td><td>-1</td><td>8</td><td>1000</td><td>30</td><td>45440000</td></tr>\n",
              "\t<tr><td>843131</td><td>-1</td><td>8</td><td>1000</td><td>30</td><td>51770000</td></tr>\n",
              "\t<tr><td>577463</td><td>-1</td><td>8</td><td>1000</td><td>30</td><td>49640000</td></tr>\n",
              "\t<tr><td>761977</td><td>-1</td><td>8</td><td>1000</td><td>30</td><td>47350000</td></tr>\n",
              "\t<tr><td>649277</td><td>-1</td><td>8</td><td>1000</td><td>30</td><td>50450000</td></tr>\n",
              "\t<tr><td>495413</td><td>-1</td><td>8</td><td>1000</td><td>30</td><td>43790000</td></tr>\n",
              "\t<tr><td>244129</td><td>-1</td><td>8</td><td>1000</td><td>30</td><td>50250000</td></tr>\n",
              "\t<tr><td>911089</td><td>-1</td><td>8</td><td>1000</td><td>30</td><td>45340000</td></tr>\n",
              "\t<tr><td>257293</td><td>-1</td><td>8</td><td>1000</td><td>30</td><td>50380000</td></tr>\n",
              "\t<tr><td>371587</td><td>-1</td><td>8</td><td>1000</td><td>30</td><td>52780000</td></tr>\n",
              "\t<tr><td>457183</td><td>-1</td><td>8</td><td>1000</td><td>30</td><td>54220000</td></tr>\n",
              "\t<tr><td>272227</td><td>-1</td><td>8</td><td>1000</td><td>30</td><td>48750000</td></tr>\n",
              "\t<tr><td>980081</td><td>-1</td><td>8</td><td>1000</td><td>30</td><td>50780000</td></tr>\n",
              "</tbody>\n",
              "</table>\n"
            ],
            "text/markdown": "\nA data.table: 16 × 6\n\n| semilla &lt;int&gt; | cp &lt;dbl&gt; | maxdepth &lt;dbl&gt; | minsplit &lt;dbl&gt; | minbucket &lt;dbl&gt; | ganancia_test &lt;dbl&gt; |\n|---|---|---|---|---|---|\n| 989753 | -1 | 8 | 1000 | 30 | 46580000 |\n| 609751 | -1 | 8 | 1000 | 30 | 49170000 |\n| 417511 | -1 | 8 | 1000 | 30 | 44370000 |\n| 243553 | -1 | 8 | 1000 | 30 | 45440000 |\n| 843131 | -1 | 8 | 1000 | 30 | 51770000 |\n| 577463 | -1 | 8 | 1000 | 30 | 49640000 |\n| 761977 | -1 | 8 | 1000 | 30 | 47350000 |\n| 649277 | -1 | 8 | 1000 | 30 | 50450000 |\n| 495413 | -1 | 8 | 1000 | 30 | 43790000 |\n| 244129 | -1 | 8 | 1000 | 30 | 50250000 |\n| 911089 | -1 | 8 | 1000 | 30 | 45340000 |\n| 257293 | -1 | 8 | 1000 | 30 | 50380000 |\n| 371587 | -1 | 8 | 1000 | 30 | 52780000 |\n| 457183 | -1 | 8 | 1000 | 30 | 54220000 |\n| 272227 | -1 | 8 | 1000 | 30 | 48750000 |\n| 980081 | -1 | 8 | 1000 | 30 | 50780000 |\n\n",
            "text/latex": "A data.table: 16 × 6\n\\begin{tabular}{llllll}\n semilla & cp & maxdepth & minsplit & minbucket & ganancia\\_test\\\\\n <int> & <dbl> & <dbl> & <dbl> & <dbl> & <dbl>\\\\\n\\hline\n\t 989753 & -1 & 8 & 1000 & 30 & 46580000\\\\\n\t 609751 & -1 & 8 & 1000 & 30 & 49170000\\\\\n\t 417511 & -1 & 8 & 1000 & 30 & 44370000\\\\\n\t 243553 & -1 & 8 & 1000 & 30 & 45440000\\\\\n\t 843131 & -1 & 8 & 1000 & 30 & 51770000\\\\\n\t 577463 & -1 & 8 & 1000 & 30 & 49640000\\\\\n\t 761977 & -1 & 8 & 1000 & 30 & 47350000\\\\\n\t 649277 & -1 & 8 & 1000 & 30 & 50450000\\\\\n\t 495413 & -1 & 8 & 1000 & 30 & 43790000\\\\\n\t 244129 & -1 & 8 & 1000 & 30 & 50250000\\\\\n\t 911089 & -1 & 8 & 1000 & 30 & 45340000\\\\\n\t 257293 & -1 & 8 & 1000 & 30 & 50380000\\\\\n\t 371587 & -1 & 8 & 1000 & 30 & 52780000\\\\\n\t 457183 & -1 & 8 & 1000 & 30 & 54220000\\\\\n\t 272227 & -1 & 8 & 1000 & 30 & 48750000\\\\\n\t 980081 & -1 & 8 & 1000 & 30 & 50780000\\\\\n\\end{tabular}\n",
            "text/plain": [
              "   semilla cp maxdepth minsplit minbucket ganancia_test\n",
              "1  989753  -1 8        1000     30        46580000     \n",
              "2  609751  -1 8        1000     30        49170000     \n",
              "3  417511  -1 8        1000     30        44370000     \n",
              "4  243553  -1 8        1000     30        45440000     \n",
              "5  843131  -1 8        1000     30        51770000     \n",
              "6  577463  -1 8        1000     30        49640000     \n",
              "7  761977  -1 8        1000     30        47350000     \n",
              "8  649277  -1 8        1000     30        50450000     \n",
              "9  495413  -1 8        1000     30        43790000     \n",
              "10 244129  -1 8        1000     30        50250000     \n",
              "11 911089  -1 8        1000     30        45340000     \n",
              "12 257293  -1 8        1000     30        50380000     \n",
              "13 371587  -1 8        1000     30        52780000     \n",
              "14 457183  -1 8        1000     30        54220000     \n",
              "15 272227  -1 8        1000     30        48750000     \n",
              "16 980081  -1 8        1000     30        50780000     "
            ]
          },
          "metadata": {}
        }
      ],
      "source": [
        "# muestro la tabla\n",
        "tb_grid_search_detalle"
      ]
    },
    {
      "cell_type": "code",
      "execution_count": 33,
      "metadata": {
        "id": "DjCxtx8bIsgl"
      },
      "outputs": [],
      "source": [
        "# genero y grabo el resumen\n",
        "tb_grid_search <- tb_grid_search_detalle[,\n",
        "  list( \"ganancia_mean\" = mean(ganancia_test),\n",
        "    \"qty\" = .N ),\n",
        "  list( cp, maxdepth, minsplit, minbucket )\n",
        "]\n"
      ]
    },
    {
      "cell_type": "code",
      "execution_count": 34,
      "metadata": {
        "id": "LU29UhL1Ivg5"
      },
      "outputs": [],
      "source": [
        "# ordeno descendente por ganancia\n",
        "setorder( tb_grid_search, -ganancia_mean )\n"
      ]
    },
    {
      "cell_type": "code",
      "execution_count": 35,
      "metadata": {
        "id": "g-EjGY7aIyWL",
        "outputId": "d35b552f-84fd-48ae-d071-f5036eb6f300",
        "colab": {
          "base_uri": "https://localhost:8080/",
          "height": 412
        }
      },
      "outputs": [
        {
          "output_type": "display_data",
          "data": {
            "text/html": [
              "<table class=\"dataframe\">\n",
              "<caption>A data.table: 10 × 6</caption>\n",
              "<thead>\n",
              "\t<tr><th scope=col>cp</th><th scope=col>maxdepth</th><th scope=col>minsplit</th><th scope=col>minbucket</th><th scope=col>ganancia_mean</th><th scope=col>qty</th></tr>\n",
              "\t<tr><th scope=col>&lt;dbl&gt;</th><th scope=col>&lt;dbl&gt;</th><th scope=col>&lt;dbl&gt;</th><th scope=col>&lt;dbl&gt;</th><th scope=col>&lt;dbl&gt;</th><th scope=col>&lt;int&gt;</th></tr>\n",
              "</thead>\n",
              "<tbody>\n",
              "\t<tr><td>-1</td><td> 8</td><td>1000</td><td>30</td><td>48816250</td><td>16</td></tr>\n",
              "\t<tr><td>NA</td><td>NA</td><td>  NA</td><td>NA</td><td>      NA</td><td>NA</td></tr>\n",
              "\t<tr><td>NA</td><td>NA</td><td>  NA</td><td>NA</td><td>      NA</td><td>NA</td></tr>\n",
              "\t<tr><td>NA</td><td>NA</td><td>  NA</td><td>NA</td><td>      NA</td><td>NA</td></tr>\n",
              "\t<tr><td>NA</td><td>NA</td><td>  NA</td><td>NA</td><td>      NA</td><td>NA</td></tr>\n",
              "\t<tr><td>NA</td><td>NA</td><td>  NA</td><td>NA</td><td>      NA</td><td>NA</td></tr>\n",
              "\t<tr><td>NA</td><td>NA</td><td>  NA</td><td>NA</td><td>      NA</td><td>NA</td></tr>\n",
              "\t<tr><td>NA</td><td>NA</td><td>  NA</td><td>NA</td><td>      NA</td><td>NA</td></tr>\n",
              "\t<tr><td>NA</td><td>NA</td><td>  NA</td><td>NA</td><td>      NA</td><td>NA</td></tr>\n",
              "\t<tr><td>NA</td><td>NA</td><td>  NA</td><td>NA</td><td>      NA</td><td>NA</td></tr>\n",
              "</tbody>\n",
              "</table>\n"
            ],
            "text/markdown": "\nA data.table: 10 × 6\n\n| cp &lt;dbl&gt; | maxdepth &lt;dbl&gt; | minsplit &lt;dbl&gt; | minbucket &lt;dbl&gt; | ganancia_mean &lt;dbl&gt; | qty &lt;int&gt; |\n|---|---|---|---|---|---|\n| -1 |  8 | 1000 | 30 | 48816250 | 16 |\n| NA | NA |   NA | NA |       NA | NA |\n| NA | NA |   NA | NA |       NA | NA |\n| NA | NA |   NA | NA |       NA | NA |\n| NA | NA |   NA | NA |       NA | NA |\n| NA | NA |   NA | NA |       NA | NA |\n| NA | NA |   NA | NA |       NA | NA |\n| NA | NA |   NA | NA |       NA | NA |\n| NA | NA |   NA | NA |       NA | NA |\n| NA | NA |   NA | NA |       NA | NA |\n\n",
            "text/latex": "A data.table: 10 × 6\n\\begin{tabular}{llllll}\n cp & maxdepth & minsplit & minbucket & ganancia\\_mean & qty\\\\\n <dbl> & <dbl> & <dbl> & <dbl> & <dbl> & <int>\\\\\n\\hline\n\t -1 &  8 & 1000 & 30 & 48816250 & 16\\\\\n\t NA & NA &   NA & NA &       NA & NA\\\\\n\t NA & NA &   NA & NA &       NA & NA\\\\\n\t NA & NA &   NA & NA &       NA & NA\\\\\n\t NA & NA &   NA & NA &       NA & NA\\\\\n\t NA & NA &   NA & NA &       NA & NA\\\\\n\t NA & NA &   NA & NA &       NA & NA\\\\\n\t NA & NA &   NA & NA &       NA & NA\\\\\n\t NA & NA &   NA & NA &       NA & NA\\\\\n\t NA & NA &   NA & NA &       NA & NA\\\\\n\\end{tabular}\n",
            "text/plain": [
              "   cp maxdepth minsplit minbucket ganancia_mean qty\n",
              "1  -1  8       1000     30        48816250      16 \n",
              "2  NA NA         NA     NA              NA      NA \n",
              "3  NA NA         NA     NA              NA      NA \n",
              "4  NA NA         NA     NA              NA      NA \n",
              "5  NA NA         NA     NA              NA      NA \n",
              "6  NA NA         NA     NA              NA      NA \n",
              "7  NA NA         NA     NA              NA      NA \n",
              "8  NA NA         NA     NA              NA      NA \n",
              "9  NA NA         NA     NA              NA      NA \n",
              "10 NA NA         NA     NA              NA      NA "
            ]
          },
          "metadata": {}
        }
      ],
      "source": [
        "# veo los 10 mejores hiperparámetros\n",
        "tb_grid_search[1:10]"
      ]
    },
    {
      "cell_type": "code",
      "execution_count": 36,
      "metadata": {
        "id": "K3S-I2PTI5ZE"
      },
      "outputs": [],
      "source": [
        "# genero un id a la tabla\n",
        "tb_grid_search[, id := .I ]\n",
        "\n",
        "fwrite( tb_grid_search,\n",
        "  file = \"gridsearch.txt\",\n",
        "  sep = \"\\t\"\n",
        ")\n"
      ]
    },
    {
      "cell_type": "markdown",
      "metadata": {
        "id": "1rYHk1YkI_9k"
      },
      "source": [
        "# 4.  Análisis de resultados de Grid Search"
      ]
    },
    {
      "cell_type": "markdown",
      "metadata": {
        "id": "ZTJgPhMWJHTk"
      },
      "source": [
        "La salida de la corrida anterior queda en ~/buckets/b1/exp/HT2900  que corresponde a su Google Drive\n",
        "<br>HT significa Hyperparameter Tuning\n",
        "<br>El Grid Search es un método de fuerza bruta de un altísimo costo computacional.\n",
        "<br>Queremos ver si es posible crear un algoritmo de optimización de hiperparámetros que se ahorre recorrer ciertas porciones muy malas del espacio de búsqueda. Algo del estilo “cada vez que pruebo una combinación de hiperparámetros donde  cp > 1 , la ganancia es muy mala, con lo cual ni vale la pena perder el tiempo explorando en esa region”\n"
      ]
    },
    {
      "cell_type": "markdown",
      "metadata": {
        "id": "IaVgMu4tPwyB"
      },
      "source": [
        "<br>Levante el archivo de salida gridsearch.txt  a una planilla tipo Excel y analícelo detenidamente\n",
        "<br>Ordene por ganancia_mean descendente\n",
        "<br>\n",
        "<br>El de mayor ganancia_mean  decimos que es el primero del ranking\n",
        "En Zulip, correspondiente channel  #Tarea Hogar 02 , topic Analisis Grid Search   intente contestar estas preguntas:\n",
        "\n",
        "* ¿Qué combinaciones de hiperparámetros poseen una ganancia muy buena?\n",
        "* ¿Hay algun hiperparámetro que para cierto valor siempre genera una ganancia muy mala, a independientemente de lo que valgan los otros hiperparámetros ?\n",
        "* ¿Que combinaciones de hiperparámetros es pésima y hubiera sido bueno ahorrarse esas corridas ?\n",
        "\n",
        "( tiempo estimado 30 minutos, dificultad media )"
      ]
    }
  ],
  "metadata": {
    "colab": {
      "provenance": [],
      "include_colab_link": true
    },
    "kernelspec": {
      "display_name": "R",
      "name": "ir"
    },
    "language_info": {
      "name": "R"
    }
  },
  "nbformat": 4,
  "nbformat_minor": 0
}