{
 "cells": [
  {
   "cell_type": "markdown",
   "metadata": {
    "colab_type": "text",
    "id": "view-in-github"
   },
   "source": [
    "<a href=\"https://colab.research.google.com/github/carlos-aular-ds/labo2025v/blob/main/src/rpart/201_ComparandoModelos.ipynb\" target=\"_parent\"><img src=\"https://colab.research.google.com/assets/colab-badge.svg\" alt=\"Open In Colab\"/></a>"
   ]
  },
  {
   "cell_type": "markdown",
   "metadata": {
    "id": "5DrvzQ9BsXmX"
   },
   "source": [
    "# Comparando Modelos"
   ]
  },
  {
   "cell_type": "markdown",
   "metadata": {
    "id": "Y2U9lu16sgta"
   },
   "source": [
    "Estamos en la  Clase 02\n",
    "<br> El objetivo de la materia es lograr la mejor predicción para nuestro probleama, para lo que se probarán pipelines con decenas de alternativas, será indispensable comparar varios modelos predictivos entre sí y decidir cual es el mejor\n",
    "<br> La tarea no es tan sencilla"
   ]
  },
  {
   "cell_type": "markdown",
   "metadata": {
    "id": "kmLygy1TYPfg"
   },
   "source": [
    "## Seteo del ambiente en Google Colab"
   ]
  },
  {
   "cell_type": "markdown",
   "metadata": {
    "id": "OikOm5K2YU3X"
   },
   "source": [
    "Esta parte se debe correr con el runtime en Python3\n",
    "<br>Ir al menu, Runtime -> Change Runtime Tipe -> Runtime type ->  **Python 3**"
   ]
  },
  {
   "cell_type": "markdown",
   "metadata": {
    "id": "4fmV5LyZdFyI"
   },
   "source": [
    "Conectar la virtual machine donde esta corriendo Google Colab con el  Google Drive, para poder tener persistencia de archivos"
   ]
  },
  {
   "cell_type": "code",
   "execution_count": null,
   "metadata": {
    "id": "ilEZ-bE2VybW"
   },
   "outputs": [],
   "source": [
    "# primero establecer el Runtime de Python 3\n",
    "from google.colab import drive\n",
    "drive.mount('/content/.drive')"
   ]
  },
  {
   "cell_type": "markdown",
   "metadata": {
    "id": "ilaKtqWldeWg"
   },
   "source": [
    "Para correr la siguiente celda es fundamental en Arranque en Frio haber copiado el archivo kaggle.json al Google Drive, en la carpeta indicada en el instructivo\n",
    "\n",
    "<br>los siguientes comando estan en shell script de Linux\n",
    "*   Crear las carpetas en el Google Drive\n",
    "*   \"instalar\" el archivo kaggle.json desde el Google Drive a la virtual machine para que pueda ser utilizado por la libreria  kaggle de Python\n",
    "*   Bajar el  **dataset_pequeno**  al  Google Drive  y tambien al disco local de la virtual machine que esta corriendo Google Colab\n",
    "\n"
   ]
  },
  {
   "cell_type": "code",
   "execution_count": null,
   "metadata": {
    "id": "W8dQFI5QYCFa"
   },
   "outputs": [],
   "source": [
    "%%shell\n",
    "\n",
    "mkdir -p \"/content/.drive/My Drive/labo1\"\n",
    "mkdir -p \"/content/buckets\"\n",
    "ln -s \"/content/.drive/My Drive/labo1\" /content/buckets/b1\n",
    "\n",
    "mkdir -p ~/.kaggle\n",
    "cp /content/buckets/b1/kaggle/kaggle.json  ~/.kaggle\n",
    "chmod 600 ~/.kaggle/kaggle.json\n",
    "\n",
    "\n",
    "mkdir -p /content/buckets/b1/exp\n",
    "mkdir -p /content/buckets/b1/datasets\n",
    "mkdir -p /content/datasets\n",
    "\n",
    "\n",
    "\n",
    "archivo_origen=\"https://storage.googleapis.com/open-courses/austral2025-af91/dataset_pequeno.csv\"\n",
    "archivo_destino=\"/content/datasets/dataset_pequeno.csv\"\n",
    "archivo_destino_bucket=\"/content/buckets/b1/datasets/dataset_pequeno.csv\"\n",
    "\n",
    "if ! test -f $archivo_destino_bucket; then\n",
    "  wget  $archivo_origen  -O $archivo_destino_bucket\n",
    "fi\n",
    "\n",
    "\n",
    "if ! test -f $archivo_destino; then\n",
    "  cp  $archivo_destino_bucket  $archivo_destino\n",
    "fi\n"
   ]
  },
  {
   "cell_type": "markdown",
   "metadata": {
    "id": "iV32-NeesVp6"
   },
   "source": [
    "# 1  Particion Training/Testing\n",
    "## Clase 02  Experimento 1"
   ]
  },
  {
   "cell_type": "markdown",
   "metadata": {
    "id": "84Pnj9gVwpXB"
   },
   "source": [
    "## 1.1  Objetivos\n",
    "Dado que es el primer experimento de la asignatura, acercar a l@s estudiantes las mejores prácticas de operación del ambiente de Google Cloud, realizando una minuciosa demostración en vivo narrando todas las consideraciones pertinentes para evitar accidentes, daños a terceros y a equipos.\n",
    "Dar soporte en el acto a  l@s estudiantes que necesitan ayuda para terminar de configurar el ambiente Google Cloud .\n",
    "<br>Repaso del concepto de  partición de un dataset al azar, estratificada en la clase\n",
    "<br>Dado que es el primer script que se mostrará en vivo a l@s estudiantes,  realizar una visita guiada del  mismo, su estructura y detalles.\n",
    "<br>Repaso del algoritmo Arbol de Decisión sus hiperparámetros, y la implementación con la librería  rpart.  Funciones  rpart::rpart  y rpart::predict\n",
    "<br>Concepto de replicabilidad de los experimentos mediante las semillas de los generadores de secuencias de números pseudoaleatorios.\n",
    "<br>Finalmente, el principal objetivo de este experimento es lograr que l@s estudiantes dimensionen la enorme variabilidad del error de medición de la ganancia de un árbol de decisión al realizar una partición <training, testing>,  contener la sorpresa de los estudiantes, descartar a la simple particion <training, testing> como método,  y construir en conjunto una solucion natural al problema."
   ]
  },
  {
   "cell_type": "markdown",
   "metadata": {
    "id": "L9Cn0WThw37Y"
   },
   "source": [
    "## 1.2 Introduccion"
   ]
  },
  {
   "cell_type": "markdown",
   "metadata": {
    "id": "ZELZ0R4itUVG"
   },
   "source": [
    "![Particiohn Training/Testing](https://storage.googleapis.com/open-courses/austral2025-af91/labo1r/C2_E1_particion.jpg)"
   ]
  },
  {
   "cell_type": "markdown",
   "metadata": {
    "id": "Wtc1ho58xLk-"
   },
   "source": [
    "![Dos tipos de error](https://storage.googleapis.com/open-courses/austral2025-af91/labo1r/C2_E1_target.jpg)"
   ]
  },
  {
   "cell_type": "markdown",
   "metadata": {
    "id": "oRWtRV34xZRT"
   },
   "source": [
    "## 1.3  Bibliografía\n",
    "\n",
    "Demšar, J. [Statistical comparisons of classifiers over multiple data sets](https://www.jmlr.org/papers/volume7/demsar06a/demsar06a.pdf) J. Mach. Learn. Res. 7, 1–30 (2006).   \n",
    "Starmer, J. [Machine Learning Fundamentals: Cross Validation](https://www.youtube.com/watch?v=fSytzGwwBVw)Machine Learning Fundamentals: Cross Validation, StatQuest with Josh Starmer youtube channel, (2018)\n",
    "Hastie, T.[The elements of statistical learning: data mining, inference, and prediction](https://hastie.su.domains/Papers/ESLII.pdf) , volume 2. Springer, 2009  ( Chapter 7 Model Assessment and Selection )"
   ]
  },
  {
   "cell_type": "markdown",
   "metadata": {
    "id": "VcgTQ2-Pyb8q"
   },
   "source": [
    "## 1.4 Codigo"
   ]
  },
  {
   "cell_type": "markdown",
   "metadata": {
    "id": "SBXPU-_tabMb"
   },
   "source": [
    "Esta parte se debe correr con el runtime en lenguaje **R** Ir al menu, Runtime -> Change Runtime Tipe -> Runtime type -> R"
   ]
  },
  {
   "cell_type": "markdown",
   "metadata": {
    "id": "SE94XRhWsxkX"
   },
   "source": [
    "limpio el ambiente de R"
   ]
  },
  {
   "cell_type": "code",
   "execution_count": null,
   "metadata": {
    "id": "oZG_4br6szlT"
   },
   "outputs": [],
   "source": [
    "# limpio la memoria\n",
    "rm(list=ls(all.names=TRUE)) # remove all objects\n",
    "gc(full=TRUE, verbose=FALSE) # garbage collection"
   ]
  },
  {
   "cell_type": "code",
   "execution_count": null,
   "metadata": {
    "id": "pJ8SsVA5ssnf"
   },
   "outputs": [],
   "source": [
    "Sys.time()"
   ]
  },
  {
   "cell_type": "markdown",
   "metadata": {
    "id": "3BrrQ47PeEb2"
   },
   "source": [
    "* Instalacion de la libreria  rpart.plot  para dibujar el arbol\n",
    "* invocacion de las librerias  **data.table** y  **rpart**"
   ]
  },
  {
   "cell_type": "code",
   "execution_count": null,
   "metadata": {
    "id": "SxO-0Ql0khn6"
   },
   "outputs": [],
   "source": [
    "# cargo las librerias que necesito\n",
    "require(\"data.table\")\n",
    "require(\"rpart\")\n"
   ]
  },
  {
   "cell_type": "markdown",
   "metadata": {
    "id": "ZG9fCnZh3bWV"
   },
   "source": [
    "###  Accion a Realizar\n",
    "PARAM$semilla  debe tener su primer semilla aleatoria"
   ]
  },
  {
   "cell_type": "code",
   "execution_count": null,
   "metadata": {
    "id": "0nx5_OcE3Y9c"
   },
   "outputs": [],
   "source": [
    "PARAM <- list()\n",
    "PARAM$semilla <- 102191  # aqui debe ir su primer semilla\n",
    "PARAM$training_pct <- 70L  # entre  1L y 99L\n",
    "\n",
    "PARAM$rpart <- list (\n",
    "  \"cp\" = -1, # complejidad minima\n",
    "  \"minsplit\" = 170, # minima cantidad de regs en un nodo para hacer el split\n",
    "  \"minbucket\" = 70, # minima cantidad de regs en una hoja\n",
    "  \"maxdepth\" = 7 # profundidad máxima del arbol\n",
    ")\n"
   ]
  },
  {
   "cell_type": "code",
   "execution_count": null,
   "metadata": {
    "id": "8HLE9Dx80gjH"
   },
   "outputs": [],
   "source": [
    "# particionar agrega una columna llamada fold a un dataset\n",
    "#  que consiste en una particion estratificada segun agrupa\n",
    "\n",
    "# particionar( data=dataset, division=c(70,30),\n",
    "#  agrupa=clase_ternaria, seed=semilla)   crea una particion 70, 30\n",
    "\n",
    "particionar <- function(\n",
    "    data, division, agrupa = \"\",\n",
    "    campo = \"fold\", start = 1, seed = NA) {\n",
    "  if (!is.na(seed)) set.seed(seed)\n",
    "\n",
    "  bloque <- unlist(mapply(function(x, y) {\n",
    "    rep(y, x)\n",
    "  }, division, seq(from = start, length.out = length(division))))\n",
    "\n",
    "  data[, (campo) := sample(rep(bloque, ceiling(.N / length(bloque))))[1:.N],\n",
    "    by = agrupa\n",
    "  ]\n",
    "}\n"
   ]
  },
  {
   "cell_type": "code",
   "execution_count": null,
   "metadata": {
    "id": "sC4_nqcm0nUs"
   },
   "outputs": [],
   "source": [
    "# carpeta de trabajo\n",
    "setwd(\"/content/buckets/b1/exp\")\n",
    "experimento <- \"exp201\"\n",
    "dir.create(experimento, showWarnings=FALSE)\n",
    "setwd( paste0(\"/content/buckets/b1/exp/\", experimento ))"
   ]
  },
  {
   "cell_type": "code",
   "execution_count": null,
   "metadata": {
    "id": "6yIEsZOw07q8"
   },
   "outputs": [],
   "source": [
    "# lectura del dataset\n",
    "dataset <- fread(\"/content/datasets/dataset_pequeno.csv\")\n",
    "\n",
    "# trabajo solo con los datos con clase, es decir 202107\n",
    "dataset <- dataset[clase_ternaria != \"\"]"
   ]
  },
  {
   "cell_type": "code",
   "execution_count": null,
   "metadata": {
    "id": "FAO1Hhd52b5d"
   },
   "outputs": [],
   "source": [
    "# particiono estratificadamente el dataset 70%, 30%\n",
    "particionar(dataset,\n",
    "  division = c(PARAM$training_pct, 100L -PARAM$training_pct),\n",
    "  agrupa = \"clase_ternaria\",\n",
    "  seed = PARAM$semilla # aqui se usa SU semilla\n",
    ")\n",
    "\n"
   ]
  },
  {
   "cell_type": "code",
   "execution_count": null,
   "metadata": {
    "id": "s3UnHSLP2gN6"
   },
   "outputs": [],
   "source": [
    "# genero el modelo\n",
    "# quiero predecir clase_ternaria a partir del resto\n",
    "# fold==1  es training,  el 70% de los datos\n",
    "modelo <- rpart(\"clase_ternaria ~ .\",\n",
    "  data = dataset[fold == 1],  # fold==1  es training, el 70% de los datos\n",
    "  xval = 0,\n",
    "  control = PARAM$rpart # aqui van los parametros\n",
    ")\n"
   ]
  },
  {
   "cell_type": "code",
   "execution_count": null,
   "metadata": {
    "id": "paQphV4A2jGz"
   },
   "outputs": [],
   "source": [
    "# aplico el modelo a los datos de testing\n",
    "prediccion <- predict(modelo, # el modelo que genere recien\n",
    "  dataset[fold == 2], # fold==2  es testing, el 30% de los datos\n",
    "  type = \"prob\"\n",
    ") # type= \"prob\"  es que devuelva la probabilidad\n"
   ]
  },
  {
   "cell_type": "code",
   "execution_count": null,
   "metadata": {
    "id": "fuLZ75pA29dT"
   },
   "outputs": [],
   "source": [
    "tb_prediccion <- as.data.table(list(\n",
    "  \"clase_ternaria\"=dataset[fold == 2, clase_ternaria],\n",
    "  \"prob\"=prediccion[, \"BAJA+2\"]\n",
    "))"
   ]
  },
  {
   "cell_type": "code",
   "execution_count": null,
   "metadata": {
    "id": "LuG6ql_t3kOI"
   },
   "outputs": [],
   "source": [
    "# calculo la ganancia de cada registro\n",
    "tb_prediccion[, ganancia := ifelse(clase_ternaria == \"BAJA+2\", 117000, -3000)]"
   ]
  },
  {
   "cell_type": "code",
   "execution_count": null,
   "metadata": {
    "id": "xJ3WTMez3leO"
   },
   "outputs": [],
   "source": [
    "# calculo la clase\n",
    "tb_prediccion[, Predicted := prob > (1/40) ]"
   ]
  },
  {
   "cell_type": "code",
   "execution_count": null,
   "metadata": {
    "id": "cFQPacen4Wq6"
   },
   "outputs": [],
   "source": [
    "ganancia_test <-  tb_prediccion[ Predicted==TRUE,  sum(ganancia)]"
   ]
  },
  {
   "cell_type": "code",
   "execution_count": null,
   "metadata": {
    "id": "dHjz0zhN4-nZ"
   },
   "outputs": [],
   "source": [
    "# normalizo la ganancia\n",
    "ganancia_test_normalizada <- ganancia_test / (( 100 - PARAM$training_pct ) / 100 )"
   ]
  },
  {
   "cell_type": "code",
   "execution_count": null,
   "metadata": {
    "id": "D7RUdTb95F6B"
   },
   "outputs": [],
   "source": [
    "estimulos <- tb_prediccion[ Predicted==TRUE, .N]\n",
    "aciertos <- tb_prediccion[ Predicted & clase_ternaria == \"BAJA+2\", .N]\n"
   ]
  },
  {
   "cell_type": "code",
   "execution_count": null,
   "metadata": {
    "id": "Lu1KM6fy5U7h"
   },
   "outputs": [],
   "source": [
    "# Resultado Final\n",
    "cat(\"Testing total: \", dataset[fold == 2, .N], \"\\n\")\n",
    "cat(\"Testing BAJA+2: \", dataset[fold == 2 & clase_ternaria == \"BAJA+2\", .N], \"\\n\")\n",
    "\n",
    "cat(\"Estimulos: \", estimulos, \"\\n\")\n",
    "cat(\"Aciertos (BAJA+2): \", aciertos, \"\\n\")\n",
    "\n",
    "cat(\"Ganancia en testing (normalizada): \", ganancia_test_normalizada, \"\\n\")\n"
   ]
  },
  {
   "cell_type": "markdown",
   "metadata": {
    "id": "kHs-YoFB5rUa"
   },
   "source": [
    "### Acciones a realizar\n",
    "* Reportar la  *Ganancia en testing (normalizada)* <br> en la planilla colaborativa hoja  **C2-1sem**\n",
    "* Se discutirá en clase la variabilidad de las ganancias obtenidas de distintos alumnos"
   ]
  },
  {
   "cell_type": "markdown",
   "metadata": {
    "id": "LBl_eIeO7WuM"
   },
   "source": [
    "\n",
    "\n",
    "---\n",
    "\n"
   ]
  },
  {
   "cell_type": "markdown",
   "metadata": {
    "id": "h43UCq9y7UlT"
   },
   "source": [
    "# 2  Medición Monte Carlo Cross Validation\n",
    "## Clase 02  Experimento 2"
   ]
  },
  {
   "cell_type": "markdown",
   "metadata": {
    "id": "wHPchGXK80VU"
   },
   "source": [
    "## 2.1  Objetivos\n",
    "Mostrar el funcionamiento de la Montecarlo Cross Validation y que l@s estudiantes aprecien la disminución de la varianza de dicha metodología.\n",
    "Relación con el Teorema Central del Límite"
   ]
  },
  {
   "cell_type": "markdown",
   "metadata": {
    "id": "g6YzACxl9DzS"
   },
   "source": [
    "## 2.2 Introduccion\n",
    "\n",
    "![Montecarlo](https://storage.googleapis.com/open-courses/austral2025-af91/labo1r/C2_E2_montecarlo.jpg)\n",
    "\n",
    "![Curva normal](https://storage.googleapis.com/open-courses/austral2025-af91/labo1r/C2_E2_normal.jpg)\n",
    "\n",
    "![Teorema Central del Limite](https://storage.googleapis.com/open-courses/austral2025-af91/labo1r/C2_E2_teoremacentralLimite.jpg)\n",
    "\n"
   ]
  },
  {
   "cell_type": "markdown",
   "metadata": {
    "id": "7laod2t4ArsH"
   },
   "source": []
  },
  {
   "cell_type": "markdown",
   "metadata": {
    "id": "lFcJeRAkAr-q"
   },
   "source": [
    "## 2.3  Bibliografía\n",
    "\n",
    "Demšar, J. [Statistical comparisons of classifiers over multiple data sets](https://www.jmlr.org/papers/volume7/demsar06a/demsar06a.pdf) J. Mach. Learn. Res. 7, 1–30 (2006).   \n",
    "Starmer, J. [Machine Learning Fundamentals: Cross Validation](https://www.youtube.com/watch?v=fSytzGwwBVw)Machine Learning Fundamentals: Cross Validation, StatQuest with Josh Starmer youtube channel, (2018)\n",
    "Hastie, T.[The elements of statistical learning: data mining, inference, and prediction](https://hastie.su.domains/Papers/ESLII.pdf) , volume 2. Springer, 2009  ( Chapter 7 Model Assessment and Selection )"
   ]
  },
  {
   "cell_type": "code",
   "execution_count": null,
   "metadata": {
    "id": "KXSuYXQ26cLV"
   },
   "outputs": [],
   "source": []
  },
  {
   "cell_type": "markdown",
   "metadata": {
    "id": "0ztZzYolA2WK"
   },
   "source": [
    "## 2.4 Codigo  Montecarlo"
   ]
  },
  {
   "cell_type": "markdown",
   "metadata": {
    "id": "KLa06ZsiC-Oz"
   },
   "source": [
    "El código de la Montecarlo Cross Validation es notablemente más complejo que el anterior de una simple partición training/testing\n",
    "<br> Se crea la funcion ArbolEstimarGanancia()  que dada una semilla realiza la partición  training/testing, entrena en training, aplica el modelo a testing, y se calculan las ganancias\n",
    "<br> Se utiliza la funcion **mcmapply**  de R para aplicar ArbolEstimarGanancia a todos los elementos del vector de semillas"
   ]
  },
  {
   "cell_type": "markdown",
   "metadata": {
    "id": "ivFiBBOQA2Ws"
   },
   "source": [
    "Esta parte se debe correr con el runtime en lenguaje **R** Ir al menu, Runtime -> Change Runtime Tipe -> Runtime type -> R"
   ]
  },
  {
   "cell_type": "markdown",
   "metadata": {
    "id": "TMSAQDXuA2Ws"
   },
   "source": [
    "limpio el ambiente de R"
   ]
  },
  {
   "cell_type": "code",
   "execution_count": null,
   "metadata": {
    "id": "eakzb8y2A2Wt"
   },
   "outputs": [],
   "source": [
    "# limpio la memoria\n",
    "rm(list=ls(all.names=TRUE)) # remove all objects\n",
    "gc(full=TRUE, verbose=FALSE) # garbage collection"
   ]
  },
  {
   "cell_type": "markdown",
   "metadata": {
    "id": "559RkeYZA2Wv"
   },
   "source": [
    "* Instalacion de la libreria  rpart.plot  para dibujar el arbol\n",
    "* invocacion de las librerias  **data.table** y  **rpart**"
   ]
  },
  {
   "cell_type": "code",
   "execution_count": null,
   "metadata": {
    "id": "yf_S_HlsA2Wv"
   },
   "outputs": [],
   "source": [
    "# cargo las librerias que necesito\n",
    "require(\"data.table\")\n",
    "require(\"rpart\")\n",
    "require(\"parallel\")"
   ]
  },
  {
   "cell_type": "markdown",
   "metadata": {
    "id": "a4oz2ulCA2Ww"
   },
   "source": [
    "###  Accion a Realizar\n",
    "PARAM$semillas  debe tener sus cinco semillas aleatorias"
   ]
  },
  {
   "cell_type": "code",
   "execution_count": null,
   "metadata": {
    "id": "yQ2OAP5AA2Wx"
   },
   "outputs": [],
   "source": [
    "PARAM <- list()\n",
    "PARAM$semillas <- c(102191, 200177, 410551, 552581, 892237)  # aqui debe ir sus CINCO\n",
    "PARAM$training_pct <- 70L  # entre  1L y 99L\n",
    "\n",
    "PARAM$rpart <- list (\n",
    "  \"cp\" = -1, # complejidad minima\n",
    "  \"minsplit\" = 170, # minima cantidad de regs en un nodo para hacer el split\n",
    "  \"minbucket\" = 70, # minima cantidad de regs en una hoja\n",
    "  \"maxdepth\" = 7 # profundidad máxima del arbol\n",
    ")\n"
   ]
  },
  {
   "cell_type": "code",
   "execution_count": null,
   "metadata": {
    "id": "97dMCVJWA2Wy"
   },
   "outputs": [],
   "source": [
    "# particionar agrega una columna llamada fold a un dataset\n",
    "#  que consiste en una particion estratificada segun agrupa\n",
    "\n",
    "# particionar( data=dataset, division=c(70,30),\n",
    "#  agrupa=clase_ternaria, seed=semilla)   crea una particion 70, 30\n",
    "\n",
    "particionar <- function(\n",
    "    data, division, agrupa = \"\",\n",
    "    campo = \"fold\", start = 1, seed = NA) {\n",
    "  if (!is.na(seed)) set.seed(seed)\n",
    "\n",
    "  bloque <- unlist(mapply(function(x, y) {\n",
    "    rep(y, x)\n",
    "  }, division, seq(from = start, length.out = length(division))))\n",
    "\n",
    "  data[, (campo) := sample(rep(bloque, ceiling(.N / length(bloque))))[1:.N],\n",
    "    by = agrupa\n",
    "  ]\n",
    "}\n"
   ]
  },
  {
   "cell_type": "code",
   "execution_count": null,
   "metadata": {
    "id": "GroZSZoVBuZ5"
   },
   "outputs": [],
   "source": [
    "\n",
    "ArbolEstimarGanancia <- function(semilla, param_basicos) {\n",
    "  # particiono estratificadamente el dataset\n",
    "  particionar(dataset,\n",
    "    division = c(param_basicos$training_pct, 100L -param_basicos$training_pct),\n",
    "    agrupa = \"clase_ternaria\",\n",
    "    seed = semilla # aqui se usa SU semilla\n",
    "  )\n",
    "\n",
    "  # genero el modelo\n",
    "  # predecir clase_ternaria a partir del resto\n",
    "  modelo <- rpart(\"clase_ternaria ~ .\",\n",
    "    data = dataset[fold == 1], # fold==1  es training,  el 70% de los datos\n",
    "    xval = 0,\n",
    "    control = param_basicos$rpart\n",
    "  ) # aqui van los parametros del arbol\n",
    "\n",
    "  # aplico el modelo a los datos de testing\n",
    "  prediccion <- predict(modelo, # el modelo que genere recien\n",
    "    dataset[fold == 2], # fold==2  es testing, el 30% de los datos\n",
    "    type = \"prob\"\n",
    "  ) # type= \"prob\"  es que devuelva la probabilidad\n",
    "\n",
    "  # prediccion es una matriz con TRES columnas,\n",
    "  #  llamadas \"BAJA+1\", \"BAJA+2\"  y \"CONTINUA\"\n",
    "  # cada columna es el vector de probabilidades\n",
    "\n",
    "\n",
    "  # calculo la ganancia en testing  qu es fold==2\n",
    "  ganancia_test <- dataset[\n",
    "    fold == 2,\n",
    "    sum(ifelse(prediccion[, \"BAJA+2\"] > 0.025,\n",
    "      ifelse(clase_ternaria == \"BAJA+2\", 117000, -3000),\n",
    "      0\n",
    "    ))\n",
    "  ]\n",
    "\n",
    "  # escalo la ganancia como si fuera todo el dataset\n",
    "  ganancia_test_normalizada <- ganancia_test / (( 100 - PARAM$training_pct ) / 100 )\n",
    "\n",
    "  return(list(\n",
    "    \"semilla\" = semilla,\n",
    "    \"testing\" = dataset[fold == 2, .N],\n",
    "    \"testing_pos\" = dataset[fold == 2 & clase_ternaria == \"BAJA+2\", .N],\n",
    "    \"envios\" = dataset[fold == 2, sum(prediccion[, \"BAJA+2\"] > 0.025)],\n",
    "    \"aciertos\" = dataset[\n",
    "        fold == 2,\n",
    "        sum(prediccion[, \"BAJA+2\"] > 0.025 & clase_ternaria == \"BAJA+2\")\n",
    "    ],\n",
    "    \"ganancia_test\" = ganancia_test_normalizada\n",
    "  ))\n",
    "}\n"
   ]
  },
  {
   "cell_type": "code",
   "execution_count": null,
   "metadata": {
    "id": "dJIBIX6kA2Wy"
   },
   "outputs": [],
   "source": [
    "# carpeta de trabajo\n",
    "setwd(\"/content/buckets/b1/exp\")\n",
    "experimento <- \"exp202\"\n",
    "dir.create(experimento, showWarnings=FALSE)\n",
    "setwd( paste0(\"/content/buckets/b1/exp/\", experimento ))"
   ]
  },
  {
   "cell_type": "code",
   "execution_count": null,
   "metadata": {
    "id": "tKiACdU2A2Wz"
   },
   "outputs": [],
   "source": [
    "# lectura del dataset\n",
    "dataset <- fread(\"/content/datasets/dataset_pequeno.csv\")\n",
    "\n",
    "# trabajo solo con los datos con clase, es decir 202107\n",
    "dataset <- dataset[clase_ternaria != \"\"]"
   ]
  },
  {
   "cell_type": "code",
   "execution_count": null,
   "metadata": {
    "id": "64OdfeyxCMDF"
   },
   "outputs": [],
   "source": [
    "\n",
    "# la funcion mcmapply  llama a la funcion ArbolEstimarGanancia\n",
    "#  tantas veces como valores tenga el vector  PARAM$semillas\n",
    "salidas <- mcmapply(ArbolEstimarGanancia,\n",
    "  PARAM$semillas, # paso el vector de semillas\n",
    "  MoreArgs = list(PARAM), # aqui paso el segundo parametro\n",
    "  SIMPLIFY = FALSE,\n",
    "  mc.cores = detectCores()\n",
    ")\n",
    "\n",
    "# muestro la lista de las salidas en testing\n",
    "#  para la particion realizada con cada semilla\n",
    "salidas\n"
   ]
  },
  {
   "cell_type": "code",
   "execution_count": null,
   "metadata": {
    "id": "tML9VmH2ECFK"
   },
   "outputs": [],
   "source": [
    "# paso la lista a vector\n",
    "tb_salida <- rbindlist(salidas)\n",
    "print( tb_salida)"
   ]
  },
  {
   "cell_type": "code",
   "execution_count": null,
   "metadata": {
    "id": "rbHXPfoVENQB"
   },
   "outputs": [],
   "source": [
    "# finalmente calculo la media (promedio)  de las ganancias\n",
    "cat( \"ganancia promedio: \", tb_salida[, mean(ganancia_test)], \"\\n\" )"
   ]
  },
  {
   "cell_type": "markdown",
   "metadata": {
    "id": "_3xVH6UKA2W6"
   },
   "source": [
    "### Acciones a realizar\n",
    "* Reportar la  *Ganancia Promedio* <br> en la planilla colaborativa hoja  **C2-5sem**\n",
    "* Se discutirá en clase la variabilidad de estos \"ganancia promedio de cinco semillas\""
   ]
  },
  {
   "cell_type": "markdown",
   "metadata": {
    "id": "N29m1XGpA2W7"
   },
   "source": [
    "\n",
    "\n",
    "---\n",
    "\n"
   ]
  },
  {
   "cell_type": "markdown",
   "metadata": {
    "id": "zS7WIJciFGc6"
   },
   "source": [
    "# 3  Generando n semillas en forma automatica\n",
    "## Clase 02  Experimento 3"
   ]
  },
  {
   "cell_type": "markdown",
   "metadata": {
    "id": "VmiFDDDJFUEo"
   },
   "source": [
    "## 3.1  Objetivos\n",
    "Mostrar la creación de nuevas semillas a partir de la librería Primes"
   ]
  },
  {
   "cell_type": "markdown",
   "metadata": {
    "id": "Ehe3VfdfFbvg"
   },
   "source": [
    "3.2  Código\n",
    "\n",
    "Como generar muchas semillas a partir de una"
   ]
  },
  {
   "cell_type": "code",
   "execution_count": null,
   "metadata": {
    "id": "X6_dE42yF2-t"
   },
   "outputs": [],
   "source": [
    "# instalo y cargo la libreria  primes\n",
    "if (!require(\"primes\")) install.packages(\"primes\")\n",
    "require(\"primes\")"
   ]
  },
  {
   "cell_type": "code",
   "execution_count": null,
   "metadata": {
    "id": "yDU9RyV4FNhZ"
   },
   "outputs": [],
   "source": [
    "# genero numeros primos\n",
    "primos <- generate_primes(min = 100000, max = 1000000)\n",
    "\n",
    "\n",
    "set.seed(102191) # inicializo con mi primer semilla\n",
    "\n",
    "# me quedo con por ejemplo 20 primos al azar\n",
    "semillas <- sample(primos, 20 )\n",
    "\n",
    "print( semillas )"
   ]
  },
  {
   "cell_type": "markdown",
   "metadata": {
    "id": "eD_cO5VTGGea"
   },
   "source": [
    "\n",
    "\n",
    "---\n",
    "\n"
   ]
  },
  {
   "cell_type": "code",
   "execution_count": null,
   "metadata": {
    "id": "k-rgoA2ZFll4"
   },
   "outputs": [],
   "source": []
  },
  {
   "cell_type": "markdown",
   "metadata": {
    "id": "cZi29THsGil_"
   },
   "source": [
    "# 4  Medición  50-Monte Carlo Cross Validation\n",
    "## Clase 02  Experimento 4"
   ]
  },
  {
   "cell_type": "markdown",
   "metadata": {
    "id": "qFNq6ntVGimN"
   },
   "source": [
    "## 4.1  Objetivos\n",
    "Calcular la ganancia del modelo utilizando 50 semillas nuevas generadas a partir de mi semilla primigenia."
   ]
  },
  {
   "cell_type": "markdown",
   "metadata": {
    "id": "B6KtuhQCGimP"
   },
   "source": [
    "## 4.4 Codigo  50 Montecarlo"
   ]
  },
  {
   "cell_type": "markdown",
   "metadata": {
    "id": "LgGgjPQuGimP"
   },
   "source": [
    "Esta parte se debe correr con el runtime en lenguaje **R** Ir al menu, Runtime -> Change Runtime Tipe -> Runtime type -> R"
   ]
  },
  {
   "cell_type": "markdown",
   "metadata": {
    "id": "E82ChuO25OYx"
   },
   "source": [
    "Este punto demora en correr 60 minutos en Google Colab, con lo cual para continuar con el punto siguiente deberá abrir un nuevo Colab"
   ]
  },
  {
   "cell_type": "markdown",
   "metadata": {
    "id": "a6AxqLwOGimQ"
   },
   "source": [
    "limpio el ambiente de R"
   ]
  },
  {
   "cell_type": "code",
   "execution_count": null,
   "metadata": {
    "id": "797Ad0_QGimQ"
   },
   "outputs": [],
   "source": [
    "# limpio la memoria\n",
    "rm(list=ls(all.names=TRUE)) # remove all objects\n",
    "gc(full=TRUE, verbose=FALSE) # garbage collection"
   ]
  },
  {
   "cell_type": "markdown",
   "metadata": {
    "id": "v0CepvbjGimQ"
   },
   "source": [
    "* Instalacion de la libreria  rpart.plot  para dibujar el arbol\n",
    "* invocacion de las librerias  **data.table** y  **rpart**"
   ]
  },
  {
   "cell_type": "code",
   "execution_count": null,
   "metadata": {
    "id": "CRkZ1V2_GimR"
   },
   "outputs": [],
   "source": [
    "# cargo las librerias que necesito\n",
    "require(\"data.table\")\n",
    "require(\"rpart\")\n",
    "require(\"parallel\")\n",
    "\n",
    "if (!require(\"primes\")) install.packages(\"primes\")\n",
    "require(\"primes\")"
   ]
  },
  {
   "cell_type": "markdown",
   "metadata": {
    "id": "PZKJG-nSGimR"
   },
   "source": [
    "###  Accion a Realizar\n",
    "PARAM$semilla_primigenia  debe reemplazarse por SU primer semilla"
   ]
  },
  {
   "cell_type": "code",
   "execution_count": null,
   "metadata": {
    "id": "4kbkA-2HGimR"
   },
   "outputs": [],
   "source": [
    "PARAM <- list()\n",
    "PARAM$semilla_primigenia <- 102191\n",
    "PARAM$qsemillas <- 50\n",
    "PARAM$training_pct <- 70L  # entre  1L y 99L\n",
    "\n",
    "PARAM$rpart <- list (\n",
    "  \"cp\" = -1, # complejidad minima\n",
    "  \"minsplit\" = 170, # minima cantidad de regs en un nodo para hacer el split\n",
    "  \"minbucket\" = 70, # minima cantidad de regs en una hoja\n",
    "  \"maxdepth\" = 7 # profundidad máxima del arbol\n",
    ")\n"
   ]
  },
  {
   "cell_type": "code",
   "execution_count": null,
   "metadata": {
    "id": "HME0qUeOGimS"
   },
   "outputs": [],
   "source": [
    "# particionar agrega una columna llamada fold a un dataset\n",
    "#  que consiste en una particion estratificada segun agrupa\n",
    "\n",
    "# particionar( data=dataset, division=c(70,30),\n",
    "#  agrupa=clase_ternaria, seed=semilla)   crea una particion 70, 30\n",
    "\n",
    "particionar <- function(\n",
    "    data, division, agrupa = \"\",\n",
    "    campo = \"fold\", start = 1, seed = NA) {\n",
    "  if (!is.na(seed)) set.seed(seed)\n",
    "\n",
    "  bloque <- unlist(mapply(function(x, y) {\n",
    "    rep(y, x)\n",
    "  }, division, seq(from = start, length.out = length(division))))\n",
    "\n",
    "  data[, (campo) := sample(rep(bloque, ceiling(.N / length(bloque))))[1:.N],\n",
    "    by = agrupa\n",
    "  ]\n",
    "}\n"
   ]
  },
  {
   "cell_type": "code",
   "execution_count": null,
   "metadata": {
    "id": "ro9Ufoi-GimS"
   },
   "outputs": [],
   "source": [
    "\n",
    "ArbolEstimarGanancia <- function(semilla, param_basicos) {\n",
    "  # particiono estratificadamente el dataset\n",
    "  particionar(dataset,\n",
    "    division = c(param_basicos$training_pct, 100L -param_basicos$training_pct),\n",
    "    agrupa = \"clase_ternaria\",\n",
    "    seed = semilla # aqui se usa SU semilla\n",
    "  )\n",
    "\n",
    "  # genero el modelo\n",
    "  # predecir clase_ternaria a partir del resto\n",
    "  modelo <- rpart(\"clase_ternaria ~ .\",\n",
    "    data = dataset[fold == 1], # fold==1  es training,  el 70% de los datos\n",
    "    xval = 0,\n",
    "    control = param_basicos$rpart\n",
    "  ) # aqui van los parametros del arbol\n",
    "\n",
    "  # aplico el modelo a los datos de testing\n",
    "  prediccion <- predict(modelo, # el modelo que genere recien\n",
    "    dataset[fold == 2], # fold==2  es testing, el 30% de los datos\n",
    "    type = \"prob\"\n",
    "  ) # type= \"prob\"  es que devuelva la probabilidad\n",
    "\n",
    "  # prediccion es una matriz con TRES columnas,\n",
    "  #  llamadas \"BAJA+1\", \"BAJA+2\"  y \"CONTINUA\"\n",
    "  # cada columna es el vector de probabilidades\n",
    "\n",
    "\n",
    "  # calculo la ganancia en testing  qu es fold==2\n",
    "  ganancia_test <- dataset[\n",
    "    fold == 2,\n",
    "    sum(ifelse(prediccion[, \"BAJA+2\"] > 0.025,\n",
    "      ifelse(clase_ternaria == \"BAJA+2\", 117000, -3000),\n",
    "      0\n",
    "    ))\n",
    "  ]\n",
    "\n",
    "  # escalo la ganancia como si fuera todo el dataset\n",
    "  ganancia_test_normalizada <- ganancia_test / (( 100 - PARAM$training_pct ) / 100 )\n",
    "\n",
    "  return(list(\n",
    "    \"semilla\" = semilla,\n",
    "    \"testing\" = dataset[fold == 2, .N],\n",
    "    \"testing_pos\" = dataset[fold == 2 & clase_ternaria == \"BAJA+2\", .N],\n",
    "    \"envios\" = dataset[fold == 2, sum(prediccion[, \"BAJA+2\"] > 0.025)],\n",
    "    \"aciertos\" = dataset[\n",
    "        fold == 2,\n",
    "        sum(prediccion[, \"BAJA+2\"] > 0.025 & clase_ternaria == \"BAJA+2\")\n",
    "    ],\n",
    "    \"ganancia_test\" = ganancia_test_normalizada\n",
    "  ))\n",
    "}\n"
   ]
  },
  {
   "cell_type": "code",
   "execution_count": null,
   "metadata": {
    "id": "gz7LgltwGimT"
   },
   "outputs": [],
   "source": [
    "# carpeta de trabajo\n",
    "setwd(\"/content/buckets/b1/exp\")\n",
    "experimento <- \"exp204\"\n",
    "dir.create(experimento, showWarnings=FALSE)\n",
    "setwd( paste0(\"/content/buckets/b1/exp/\", experimento ))"
   ]
  },
  {
   "cell_type": "code",
   "execution_count": null,
   "metadata": {
    "id": "xRXKHeLeGimT"
   },
   "outputs": [],
   "source": [
    "# lectura del dataset\n",
    "dataset <- fread(\"/content/datasets/dataset_pequeno.csv\")\n",
    "\n",
    "# trabajo solo con los datos con clase, es decir 202107\n",
    "dataset <- dataset[clase_ternaria != \"\"]"
   ]
  },
  {
   "cell_type": "code",
   "execution_count": null,
   "metadata": {
    "id": "MdpZ10qiHSZy"
   },
   "outputs": [],
   "source": [
    "# genero numeros primos\n",
    "primos <- generate_primes(min = 100000, max = 1000000)\n",
    "set.seed(PARAM$semilla_primigenia) # inicializo\n",
    "\n",
    "# me quedo con PARAM$qsemillas   semillas\n",
    "PARAM$semillas <- sample(primos, PARAM$qsemillas )"
   ]
  },
  {
   "cell_type": "code",
   "execution_count": null,
   "metadata": {
    "id": "r-YaawpgGimU"
   },
   "outputs": [],
   "source": [
    "\n",
    "# la funcion mcmapply  llama a la funcion ArbolEstimarGanancia\n",
    "#  tantas veces como valores tenga el vector  PARAM$semillas\n",
    "salidas <- mcmapply(ArbolEstimarGanancia,\n",
    "  PARAM$semillas, # paso el vector de semillas\n",
    "  MoreArgs = list(PARAM), # aqui paso el segundo parametro\n",
    "  SIMPLIFY = FALSE,\n",
    "  mc.cores = detectCores()\n",
    ")\n",
    "\n",
    "# muestro la lista de las salidas en testing\n",
    "#  para la particion realizada con cada semilla\n",
    "salidas\n"
   ]
  },
  {
   "cell_type": "code",
   "execution_count": null,
   "metadata": {
    "id": "unGWiKRMGimU"
   },
   "outputs": [],
   "source": [
    "# paso la lista a vector\n",
    "tb_salida <- rbindlist(salidas)\n",
    "print( tb_salida)"
   ]
  },
  {
   "cell_type": "code",
   "execution_count": null,
   "metadata": {
    "id": "oGoadhBKGimV"
   },
   "outputs": [],
   "source": [
    "# calulo la salida\n",
    "for( i in seq(10, 50, 10) )\n",
    "{\n",
    "  cat( i, \"\\t\", tb_salida[ 1:i, mean(ganancia_test)], \"\\n\" )\n",
    "}\n"
   ]
  },
  {
   "cell_type": "markdown",
   "metadata": {
    "id": "dO9yQKt7GimV"
   },
   "source": [
    "### Acciones a realizar\n",
    "* Reportar la  los resultados en la planilla colaborativa hoja  **C2-nsem**\n",
    "* Se discutirá en clase la variabilidad de las distintas cantidades de semillas"
   ]
  },
  {
   "cell_type": "markdown",
   "metadata": {
    "id": "ziFKwIlBGimW"
   },
   "source": [
    "\n",
    "\n",
    "---\n",
    "\n"
   ]
  },
  {
   "cell_type": "markdown",
   "metadata": {
    "id": "2jncHe-KJLUg"
   },
   "source": [
    "# 5  DiezMil -Monte Carlo Cross Validation\n",
    "## Clase 02  Experimento 5"
   ]
  },
  {
   "cell_type": "markdown",
   "metadata": {
    "id": "vUzSGZGOJZq8"
   },
   "source": [
    "Mostrar a los estudiantes el resultado de un experimento en donde se ha corrido una Monte Carlo Cross Validation utilizando diez mil semillas y relacionar la cantidad de semillas con el resultado del Teorema Central del Límite\n",
    "<br>Los resultados se muestran en esta misma guia y se comentan en clase,Bajo ningún concepto se solicitará a l@s estudiantes hacer este experimento en clase ya que lleva varias horas en correr.\n"
   ]
  },
  {
   "cell_type": "markdown",
   "metadata": {
    "id": "G0YGjTMxuTSg"
   },
   "source": [
    "Aqui usted NO debe correr absolutamente nada, el experimento ya fue corrido por la cátedra y le muestra los resultados."
   ]
  },
  {
   "cell_type": "markdown",
   "metadata": {
    "id": "7NRUb3WtJikc"
   },
   "source": [
    "## 5.1\n",
    "Estos resultados han sido corridos por la cátedra.\n",
    "\n",
    "![Distribucion de las ganancias](https://storage.googleapis.com/open-courses/austral2025-af91/labo1r/C2_E5_distribucion.jpg)"
   ]
  },
  {
   "cell_type": "markdown",
   "metadata": {
    "id": "tZ4X8wdSKc7G"
   },
   "source": [
    "![salida](https://storage.googleapis.com/open-courses/austral2025-af91/labo1r/C2_E5_salida.jpg)"
   ]
  },
  {
   "cell_type": "markdown",
   "metadata": {
    "id": "EsL5ukNWKS71"
   },
   "source": [
    "![tabla](https://storage.googleapis.com/open-courses/austral2025-af91/labo1r/C2_E5_tabla.jpg)\n",
    "\n",
    " 2    ~    1,96  =  3605406.2 / 1836264.3\n",
    "\n",
    "Por el teorema central del límite, un aumento de 4 veces de la cantidad de registros que se promedian el desvio estandar disminuye 2 veces ,  raiz(4 ) = 2"
   ]
  },
  {
   "cell_type": "markdown",
   "metadata": {
    "id": "OTLq8TC4LR0c"
   },
   "source": [
    "\n",
    "\n",
    "---\n",
    "\n"
   ]
  },
  {
   "cell_type": "markdown",
   "metadata": {
    "id": "sAS1bfL8LmBv"
   },
   "source": [
    "# 6 Comparando dos distintos  modelos\n",
    "## Clase 02  Experimento 6"
   ]
  },
  {
   "cell_type": "markdown",
   "metadata": {
    "id": "KzwdMJDZLmB9"
   },
   "source": [
    "## 6.1  Objetivos\n",
    "Presentar a los alumnos la dificultad que se presenta ante la comparación de dos modelos, uno posee un poder predictivo claramente mayor al otro.\n",
    "Comparación simple de media de ganancias, versus probabilidad que un modelo sea superior a otro."
   ]
  },
  {
   "cell_type": "markdown",
   "metadata": {
    "id": "DDyFNmJ9L_CW"
   },
   "source": [
    "## 6.2 Introduccion\n",
    "Estos son los dos arboles de muy distinta profundidad.\n",
    "<br>¿Cuál de ellos es mejor? ¿Cuál elijo?\n",
    "\n",
    "| Hiperparámetro | Arbol 1 | Arbol 2 |\n",
    "| --- | --: |  ---: |\n",
    "| cp | -1 | -1 |\n",
    "|minsplit | 170 | 250 |\n",
    "|minbucket | 70 | 125 |\n",
    "|maxdepth | 7 | 20 |\n",
    "\n"
   ]
  },
  {
   "cell_type": "markdown",
   "metadata": {
    "id": "bQfwNsVzNrtI"
   },
   "source": [
    "## 6.3 Codigo dos distintos modelos"
   ]
  },
  {
   "cell_type": "markdown",
   "metadata": {
    "id": "Ku7qQgKjNruJ"
   },
   "source": [
    "Esta parte se debe correr con el runtime en lenguaje **R** Ir al menu, Runtime -> Change Runtime Tipe -> Runtime type -> R"
   ]
  },
  {
   "cell_type": "markdown",
   "metadata": {
    "id": "6jCdS3NMuKei"
   },
   "source": [
    "El tiempo de corrida es de alrededor de 40 minutos"
   ]
  },
  {
   "cell_type": "markdown",
   "metadata": {
    "id": "Z1EUBeHyNruK"
   },
   "source": [
    "limpio el ambiente de R"
   ]
  },
  {
   "cell_type": "code",
   "execution_count": 10,
   "metadata": {
    "id": "GxbC4V3zNruM"
   },
   "outputs": [
    {
     "data": {
      "text/html": [
       "<table class=\"dataframe\">\n",
       "<caption>A matrix: 2 × 6 of type dbl</caption>\n",
       "<thead>\n",
       "\t<tr><th></th><th scope=col>used</th><th scope=col>(Mb)</th><th scope=col>gc trigger</th><th scope=col>(Mb)</th><th scope=col>max used</th><th scope=col>(Mb)</th></tr>\n",
       "</thead>\n",
       "<tbody>\n",
       "\t<tr><th scope=row>Ncells</th><td>1158607</td><td>61.9</td><td> 2333465</td><td>124.7</td><td> 1454662</td><td> 77.7</td></tr>\n",
       "\t<tr><th scope=row>Vcells</th><td>2068395</td><td>15.8</td><td>59474019</td><td>453.8</td><td>71047425</td><td>542.1</td></tr>\n",
       "</tbody>\n",
       "</table>\n"
      ],
      "text/latex": [
       "A matrix: 2 × 6 of type dbl\n",
       "\\begin{tabular}{r|llllll}\n",
       "  & used & (Mb) & gc trigger & (Mb) & max used & (Mb)\\\\\n",
       "\\hline\n",
       "\tNcells & 1158607 & 61.9 &  2333465 & 124.7 &  1454662 &  77.7\\\\\n",
       "\tVcells & 2068395 & 15.8 & 59474019 & 453.8 & 71047425 & 542.1\\\\\n",
       "\\end{tabular}\n"
      ],
      "text/markdown": [
       "\n",
       "A matrix: 2 × 6 of type dbl\n",
       "\n",
       "| <!--/--> | used | (Mb) | gc trigger | (Mb) | max used | (Mb) |\n",
       "|---|---|---|---|---|---|---|\n",
       "| Ncells | 1158607 | 61.9 |  2333465 | 124.7 |  1454662 |  77.7 |\n",
       "| Vcells | 2068395 | 15.8 | 59474019 | 453.8 | 71047425 | 542.1 |\n",
       "\n"
      ],
      "text/plain": [
       "       used    (Mb) gc trigger (Mb)  max used (Mb) \n",
       "Ncells 1158607 61.9  2333465   124.7  1454662  77.7\n",
       "Vcells 2068395 15.8 59474019   453.8 71047425 542.1"
      ]
     },
     "metadata": {},
     "output_type": "display_data"
    }
   ],
   "source": [
    "# limpio la memoria\n",
    "rm(list=ls(all.names=TRUE)) # remove all objects\n",
    "gc(full=TRUE, verbose=FALSE) # garbage collection"
   ]
  },
  {
   "cell_type": "markdown",
   "metadata": {
    "id": "i2WkSCIhNruQ"
   },
   "source": [
    "* Instalacion de la libreria  rpart.plot  para dibujar el arbol\n",
    "* invocacion de las librerias  **data.table** y  **rpart**"
   ]
  },
  {
   "cell_type": "code",
   "execution_count": 11,
   "metadata": {
    "id": "3bMsgZJWNruR"
   },
   "outputs": [],
   "source": [
    "# cargo las librerias que necesito\n",
    "require(\"data.table\")\n",
    "require(\"rpart\")\n",
    "require(\"parallel\")\n",
    "\n",
    "if (!require(\"primes\")) install.packages(\"primes\")\n",
    "require(\"primes\")\n",
    "\n",
    "require(\"ggplot2\")"
   ]
  },
  {
   "cell_type": "markdown",
   "metadata": {
    "id": "t1lTXrKaNruT"
   },
   "source": [
    "###  Accion a Realizar\n",
    "PARAM$semilla_primigenia  debe reemplazarse por SU primer semilla"
   ]
  },
  {
   "cell_type": "code",
   "execution_count": 12,
   "metadata": {
    "id": "QFbPtTCMNruV"
   },
   "outputs": [],
   "source": [
    "PARAM <- list()\n",
    "PARAM$semilla_primigenia <- 111119\n",
    "PARAM$qsemillas <- 20\n",
    "PARAM$training_pct <- 70L     # entre 1 y 100\n"
   ]
  },
  {
   "cell_type": "code",
   "execution_count": 13,
   "metadata": {
    "id": "GiBGk7WKQv2V"
   },
   "outputs": [],
   "source": [
    "# los dos arboles\n",
    "PARAM$rpart1 <- list (\n",
    "  \"cp\" = -1,\n",
    "  \"minsplit\" = 170,\n",
    "  \"minbucket\" = 70,\n",
    "  \"maxdepth\" = 7\n",
    ")\n",
    "\n",
    "\n",
    "PARAM$rpart2 <- list (\n",
    "  \"cp\" = -1,\n",
    "  \"minsplit\" = 250,\n",
    "  \"minbucket\" = 125,\n",
    "  \"maxdepth\" = 20\n",
    ")"
   ]
  },
  {
   "cell_type": "code",
   "execution_count": 14,
   "metadata": {
    "id": "2BabfKg7NruX"
   },
   "outputs": [],
   "source": [
    "# particionar agrega una columna llamada fold a un dataset\n",
    "#  que consiste en una particion estratificada segun agrupa\n",
    "\n",
    "# particionar( data=dataset, division=c(70,30),\n",
    "#  agrupa=clase_ternaria, seed=semilla)   crea una particion 70, 30\n",
    "\n",
    "particionar <- function(\n",
    "    data, division, agrupa = \"\",\n",
    "    campo = \"fold\", start = 1, seed = NA) {\n",
    "  if (!is.na(seed)) set.seed(seed)\n",
    "\n",
    "  bloque <- unlist(mapply(function(x, y) {\n",
    "    rep(y, x)\n",
    "  }, division, seq(from = start, length.out = length(division))))\n",
    "\n",
    "  data[, (campo) := sample(rep(bloque, ceiling(.N / length(bloque))))[1:.N],\n",
    "    by = agrupa\n",
    "  ]\n",
    "}\n"
   ]
  },
  {
   "cell_type": "code",
   "execution_count": 15,
   "metadata": {
    "id": "YrGJgj4UNruZ"
   },
   "outputs": [],
   "source": [
    "DosArbolesEstimarGanancia <- function(semilla, training_pct, param_rpart1, param_rpart2) {\n",
    "\n",
    "  # fuerzo impresion\n",
    "  print( paste( semilla, Sys.time()) )\n",
    "  flush.console()\n",
    "\n",
    "  # particiono estratificadamente el dataset\n",
    "  particionar(dataset,\n",
    "    division = c(training_pct, 100L -training_pct),\n",
    "    agrupa = \"clase_ternaria\",\n",
    "    seed = semilla # aqui se usa SU semilla\n",
    "  )\n",
    "\n",
    "  # genero el modelo\n",
    "  # predecir clase_ternaria a partir del resto\n",
    "  modelo1 <- rpart(\"clase_ternaria ~ .\",\n",
    "    data = dataset[fold == 1], # fold==1  es training,  el 70% de los datos\n",
    "    xval = 0,\n",
    "    control = param_rpart1\n",
    "  ) # aqui van los parametros del arbol\n",
    "\n",
    "  # aplico el modelo a los datos de testing\n",
    "  prediccion1 <- predict(modelo1, # el modelo que genere recien\n",
    "    dataset[fold == 2], # fold==2  es testing, el 30% de los datos\n",
    "    type = \"prob\"\n",
    "  ) # type= \"prob\"  es que devuelva la probabilidad\n",
    "\n",
    "\n",
    "  # calculo la ganancia en testing  qu es fold==2\n",
    "  ganancia_test1 <- dataset[\n",
    "    fold == 2,\n",
    "    sum(ifelse(prediccion1[, \"BAJA+2\"] > 0.025,\n",
    "      ifelse(clase_ternaria == \"BAJA+2\", 117000, -3000),\n",
    "      0\n",
    "    ))\n",
    "  ]\n",
    "\n",
    "  # escalo la ganancia como si fuera todo el dataset\n",
    "  ganancia_test_normalizada1 <- ganancia_test1 / (( 100 - training_pct ) / 100 )\n",
    "\n",
    "  modelo2 <- rpart(\"clase_ternaria ~ .\",\n",
    "    data = dataset[fold == 1], # fold==1  es training,  el 70% de los datos\n",
    "    xval = 0,\n",
    "    control = param_rpart2\n",
    "  ) # aqui van los parametros del arbol\n",
    "\n",
    "  # aplico el modelo a los datos de testing\n",
    "  prediccion2 <- predict(modelo2, # el modelo que genere recien\n",
    "    dataset[fold == 2], # fold==2  es testing, el 30% de los datos\n",
    "    type = \"prob\"\n",
    "  ) # type= \"prob\"  es que devuelva la probabilidad\n",
    "\n",
    "\n",
    "  # calculo la ganancia en testing  qu es fold==2\n",
    "  ganancia_test2 <- dataset[\n",
    "    fold == 2,\n",
    "    sum(ifelse(prediccion2[, \"BAJA+2\"] > 0.025,\n",
    "      ifelse(clase_ternaria == \"BAJA+2\", 117000, -3000),\n",
    "      0\n",
    "    ))\n",
    "  ]\n",
    "\n",
    "  # escalo la ganancia como si fuera todo el dataset\n",
    "  ganancia_test_normalizada2 <- ganancia_test2 / (( 100 - training_pct ) / 100 )\n",
    "\n",
    "  return(list(\n",
    "    \"semilla\" = semilla,\n",
    "    \"ganancia1\" = ganancia_test_normalizada1,\n",
    "    \"ganancia2\" = ganancia_test_normalizada2\n",
    "  ))\n",
    "}"
   ]
  },
  {
   "cell_type": "code",
   "execution_count": 16,
   "metadata": {
    "id": "2C2yjgQVNrud"
   },
   "outputs": [],
   "source": [
    "# carpeta de trabajo\n",
    "setwd(\"/content/buckets/b1/exp\")\n",
    "experimento <- \"exp206\"\n",
    "dir.create(experimento, showWarnings=FALSE)\n",
    "setwd( paste0(\"/content/buckets/b1/exp/\", experimento ))"
   ]
  },
  {
   "cell_type": "code",
   "execution_count": 17,
   "metadata": {
    "id": "oQeGcBnPNrug"
   },
   "outputs": [],
   "source": [
    "# lectura del dataset\n",
    "dataset <- fread(\"/content/datasets/dataset_pequeno.csv\")\n",
    "\n",
    "# trabajo solo con los datos con clase, es decir 202107\n",
    "dataset <- dataset[clase_ternaria != \"\"]"
   ]
  },
  {
   "cell_type": "code",
   "execution_count": 18,
   "metadata": {
    "id": "gXKI2eXO9Osx"
   },
   "outputs": [
    {
     "data": {
      "text/html": [
       "8"
      ],
      "text/latex": [
       "8"
      ],
      "text/markdown": [
       "8"
      ],
      "text/plain": [
       "[1] 8"
      ]
     },
     "metadata": {},
     "output_type": "display_data"
    }
   ],
   "source": [
    "detectCores()"
   ]
  },
  {
   "cell_type": "code",
   "execution_count": 19,
   "metadata": {
    "id": "tU8S7_5ANrui"
   },
   "outputs": [],
   "source": [
    "# genero numeros primos\n",
    "primos <- generate_primes(min = 100000, max = 1000000)\n",
    "set.seed(PARAM$semilla_primigenia) # inicializo\n",
    "\n",
    "# me quedo con PARAM$qsemillas   semillas\n",
    "PARAM$semillas <- sample(primos, PARAM$qsemillas )"
   ]
  },
  {
   "cell_type": "code",
   "execution_count": 20,
   "metadata": {
    "id": "mlF66CgxcHF3"
   },
   "outputs": [
    {
     "data": {
      "text/plain": [
       "[1] \"2025-10-04 21:44:42 UTC\""
      ]
     },
     "metadata": {},
     "output_type": "display_data"
    },
    {
     "data": {
      "text/plain": [
       "[1] \"2025-10-04 21:58:32 UTC\""
      ]
     },
     "metadata": {},
     "output_type": "display_data"
    }
   ],
   "source": [
    "# demora interminables 60 minutos en correr en Google Colab\n",
    "Sys.time()\n",
    "\n",
    "salidas <- mcmapply( DosArbolesEstimarGanancia,\n",
    "  PARAM$semillas, # paso el vector de semillas\n",
    "  MoreArgs = list(PARAM$training_pct, PARAM$rpart1, PARAM$rpart2), # aqui paso el segundo parametro\n",
    "  SIMPLIFY = FALSE,\n",
    "  mc.cores = detectCores()\n",
    ")\n",
    "\n",
    "Sys.time()"
   ]
  },
  {
   "cell_type": "code",
   "execution_count": 21,
   "metadata": {
    "id": "_g-_kccdNrum"
   },
   "outputs": [
    {
     "data": {
      "text/html": [
       "<table class=\"dataframe\">\n",
       "<caption>A data.table: 20 × 3</caption>\n",
       "<thead>\n",
       "\t<tr><th scope=col>semilla</th><th scope=col>ganancia1</th><th scope=col>ganancia2</th></tr>\n",
       "\t<tr><th scope=col>&lt;int&gt;</th><th scope=col>&lt;dbl&gt;</th><th scope=col>&lt;dbl&gt;</th></tr>\n",
       "</thead>\n",
       "<tbody>\n",
       "\t<tr><td>989753</td><td>43560000</td><td>40740000</td></tr>\n",
       "\t<tr><td>609751</td><td>46140000</td><td>42100000</td></tr>\n",
       "\t<tr><td>417511</td><td>43240000</td><td>38100000</td></tr>\n",
       "\t<tr><td>243553</td><td>52200000</td><td>45620000</td></tr>\n",
       "\t<tr><td>843131</td><td>48760000</td><td>51020000</td></tr>\n",
       "\t<tr><td>577463</td><td>46750000</td><td>44770000</td></tr>\n",
       "\t<tr><td>761977</td><td>51560000</td><td>41970000</td></tr>\n",
       "\t<tr><td>649277</td><td>48900000</td><td>46630000</td></tr>\n",
       "\t<tr><td>495413</td><td>48160000</td><td>41440000</td></tr>\n",
       "\t<tr><td>244129</td><td>48420000</td><td>43420000</td></tr>\n",
       "\t<tr><td>911089</td><td>45630000</td><td>40380000</td></tr>\n",
       "\t<tr><td>257293</td><td>51150000</td><td>40980000</td></tr>\n",
       "\t<tr><td>371587</td><td>51610000</td><td>44600000</td></tr>\n",
       "\t<tr><td>457183</td><td>52890000</td><td>47360000</td></tr>\n",
       "\t<tr><td>272227</td><td>49490000</td><td>39910000</td></tr>\n",
       "\t<tr><td>980081</td><td>53080000</td><td>44200000</td></tr>\n",
       "\t<tr><td>231919</td><td>53010000</td><td>39170000</td></tr>\n",
       "\t<tr><td>254729</td><td>49180000</td><td>47720000</td></tr>\n",
       "\t<tr><td>393013</td><td>51900000</td><td>43390000</td></tr>\n",
       "\t<tr><td>974891</td><td>51310000</td><td>36080000</td></tr>\n",
       "</tbody>\n",
       "</table>\n"
      ],
      "text/latex": [
       "A data.table: 20 × 3\n",
       "\\begin{tabular}{lll}\n",
       " semilla & ganancia1 & ganancia2\\\\\n",
       " <int> & <dbl> & <dbl>\\\\\n",
       "\\hline\n",
       "\t 989753 & 43560000 & 40740000\\\\\n",
       "\t 609751 & 46140000 & 42100000\\\\\n",
       "\t 417511 & 43240000 & 38100000\\\\\n",
       "\t 243553 & 52200000 & 45620000\\\\\n",
       "\t 843131 & 48760000 & 51020000\\\\\n",
       "\t 577463 & 46750000 & 44770000\\\\\n",
       "\t 761977 & 51560000 & 41970000\\\\\n",
       "\t 649277 & 48900000 & 46630000\\\\\n",
       "\t 495413 & 48160000 & 41440000\\\\\n",
       "\t 244129 & 48420000 & 43420000\\\\\n",
       "\t 911089 & 45630000 & 40380000\\\\\n",
       "\t 257293 & 51150000 & 40980000\\\\\n",
       "\t 371587 & 51610000 & 44600000\\\\\n",
       "\t 457183 & 52890000 & 47360000\\\\\n",
       "\t 272227 & 49490000 & 39910000\\\\\n",
       "\t 980081 & 53080000 & 44200000\\\\\n",
       "\t 231919 & 53010000 & 39170000\\\\\n",
       "\t 254729 & 49180000 & 47720000\\\\\n",
       "\t 393013 & 51900000 & 43390000\\\\\n",
       "\t 974891 & 51310000 & 36080000\\\\\n",
       "\\end{tabular}\n"
      ],
      "text/markdown": [
       "\n",
       "A data.table: 20 × 3\n",
       "\n",
       "| semilla &lt;int&gt; | ganancia1 &lt;dbl&gt; | ganancia2 &lt;dbl&gt; |\n",
       "|---|---|---|\n",
       "| 989753 | 43560000 | 40740000 |\n",
       "| 609751 | 46140000 | 42100000 |\n",
       "| 417511 | 43240000 | 38100000 |\n",
       "| 243553 | 52200000 | 45620000 |\n",
       "| 843131 | 48760000 | 51020000 |\n",
       "| 577463 | 46750000 | 44770000 |\n",
       "| 761977 | 51560000 | 41970000 |\n",
       "| 649277 | 48900000 | 46630000 |\n",
       "| 495413 | 48160000 | 41440000 |\n",
       "| 244129 | 48420000 | 43420000 |\n",
       "| 911089 | 45630000 | 40380000 |\n",
       "| 257293 | 51150000 | 40980000 |\n",
       "| 371587 | 51610000 | 44600000 |\n",
       "| 457183 | 52890000 | 47360000 |\n",
       "| 272227 | 49490000 | 39910000 |\n",
       "| 980081 | 53080000 | 44200000 |\n",
       "| 231919 | 53010000 | 39170000 |\n",
       "| 254729 | 49180000 | 47720000 |\n",
       "| 393013 | 51900000 | 43390000 |\n",
       "| 974891 | 51310000 | 36080000 |\n",
       "\n"
      ],
      "text/plain": [
       "   semilla ganancia1 ganancia2\n",
       "1  989753  43560000  40740000 \n",
       "2  609751  46140000  42100000 \n",
       "3  417511  43240000  38100000 \n",
       "4  243553  52200000  45620000 \n",
       "5  843131  48760000  51020000 \n",
       "6  577463  46750000  44770000 \n",
       "7  761977  51560000  41970000 \n",
       "8  649277  48900000  46630000 \n",
       "9  495413  48160000  41440000 \n",
       "10 244129  48420000  43420000 \n",
       "11 911089  45630000  40380000 \n",
       "12 257293  51150000  40980000 \n",
       "13 371587  51610000  44600000 \n",
       "14 457183  52890000  47360000 \n",
       "15 272227  49490000  39910000 \n",
       "16 980081  53080000  44200000 \n",
       "17 231919  53010000  39170000 \n",
       "18 254729  49180000  47720000 \n",
       "19 393013  51900000  43390000 \n",
       "20 974891  51310000  36080000 "
      ]
     },
     "metadata": {},
     "output_type": "display_data"
    }
   ],
   "source": [
    "# paso la lista a vector\n",
    "tb_salida <- rbindlist(salidas)\n",
    "tb_salida"
   ]
  },
  {
   "cell_type": "code",
   "execution_count": 22,
   "metadata": {
    "id": "-O0rg6btNrun"
   },
   "outputs": [
    {
     "data": {
      "image/png": "[encoded data removed]",
      "text/plain": [
       "plot without title"
      ]
     },
     "metadata": {
      "image/png": {
       "height": 420,
       "width": 420
      }
     },
     "output_type": "display_data"
    }
   ],
   "source": [
    "grafico <- ggplot( tb_salida, aes(x=ganancia1)) + geom_density(alpha=0.25, fill=\"green\", color=\"green\")  +\n",
    "             geom_density(data=tb_salida, aes(x=ganancia2), fill=\"purple\", color=\"purple\",  alpha=0.10)\n",
    "\n",
    "print(grafico)"
   ]
  },
  {
   "cell_type": "code",
   "execution_count": 23,
   "metadata": {
    "id": "uSqrazOyU_LC"
   },
   "outputs": [
    {
     "data": {
      "text/html": [
       "<strong>agg_record_1291946821:</strong> 2"
      ],
      "text/latex": [
       "\\textbf{agg\\textbackslash{}\\_record\\textbackslash{}\\_1291946821:} 2"
      ],
      "text/markdown": [
       "**agg_record_1291946821:** 2"
      ],
      "text/plain": [
       "agg_record_1291946821 \n",
       "                    2 "
      ]
     },
     "metadata": {},
     "output_type": "display_data"
    }
   ],
   "source": [
    "# imprimo en un .pdf  que va a la carpeta del experimento\n",
    "pdf(\"densidad_dos.pdf\")\n",
    "print(grafico)\n",
    "dev.off()"
   ]
  },
  {
   "cell_type": "code",
   "execution_count": 24,
   "metadata": {
    "id": "LGv0LB_4R7US"
   },
   "outputs": [
    {
     "name": "stdout",
     "output_type": "stream",
     "text": [
      "     arbol1   arbol2\n",
      "      <num>    <num>\n",
      "1: 49347000 42980000\n",
      "   prob( m1 > m2)\n",
      "            <num>\n",
      "1:           0.95\n"
     ]
    }
   ],
   "source": [
    "print( tb_salida[ , list( \"arbol1\" = mean( ganancia1),  \"arbol2\" = mean(ganancia2) ) ] )\n",
    "\n",
    "print( tb_salida[ , list( \"prob( m1 > m2)\" = sum(ganancia1 > ganancia2 )/ .N ) ]  )"
   ]
  },
  {
   "cell_type": "markdown",
   "metadata": {
    "id": "F6lFJf1VTi8b"
   },
   "source": [
    "### Acciones a realizar\n",
    "* Reportar la  los resultados en la planilla colaborativa hoja  **C2-dosModelos**\n",
    "* ¿Todos los alumnos hubieran elegido el mismo modelo aun con 20 semillas?"
   ]
  },
  {
   "cell_type": "code",
   "execution_count": 25,
   "metadata": {},
   "outputs": [
    {
     "data": {
      "text/plain": [
       "[1] \"2025-10-04 21:58:41 UTC\""
      ]
     },
     "metadata": {},
     "output_type": "display_data"
    }
   ],
   "source": [
    "Sys.time()\n"
   ]
  },
  {
   "cell_type": "markdown",
   "metadata": {
    "id": "aOpy-XBKTi8n"
   },
   "source": [
    "\n",
    "\n",
    "---\n",
    "\n"
   ]
  },
  {
   "cell_type": "markdown",
   "metadata": {
    "id": "EdzjiJf-dsEK"
   },
   "source": [
    "# 7 Comparando dos buenos  modelos\n",
    "## Clase 02  Experimento 7"
   ]
  },
  {
   "cell_type": "markdown",
   "metadata": {
    "id": "FcBjp5XxdsEt"
   },
   "source": [
    "## 7.1  Objetivos\n",
    "Presentar a los alumnos la dificultad que surge en la comparación de dos muy distintos, pero ambos buenos, modelos predictivos, y el costo computacional asociado a esa comparación\n",
    "<br>Comparación simple de media de ganancias, versus probabilidad que un modelo sea superior a otro.\n",
    "<br>Limitaciones de la MonteCarlo Cross Validation\n",
    "<br>Existencia del Test de Wilcoxon"
   ]
  },
  {
   "cell_type": "markdown",
   "metadata": {
    "id": "tYcOIcwCdsEu"
   },
   "source": [
    "## 7.2 Introduccion\n",
    "Estos son los dos arboles de muy distinta profundidad.\n",
    "<br>¿Cuál de ellos es mejor? ¿Cuál elijo?\n",
    "\n",
    "| Hiperparámetro | Arbol 1 | Arbol 2 |\n",
    "| --- | --: |  ---: |\n",
    "| cp | -1 | -1 |\n",
    "|minsplit | 170 | 1900 |\n",
    "|minbucket | 70 | 800 |\n",
    "|maxdepth | 7 | 3 |\n",
    "\n"
   ]
  },
  {
   "cell_type": "markdown",
   "metadata": {
    "id": "r0NDA7GgdsEu"
   },
   "source": [
    "## 7.3 Dos buenos modelos"
   ]
  },
  {
   "cell_type": "markdown",
   "metadata": {
    "id": "21SJmGd7dsEv"
   },
   "source": [
    "Esta parte se debe correr con el runtime en lenguaje **R** Ir al menu, Runtime -> Change Runtime Tipe -> Runtime type -> R"
   ]
  },
  {
   "cell_type": "markdown",
   "metadata": {
    "id": "Ne0e08KUt87w"
   },
   "source": [
    "El tiempo de corrida es de alrededor de 50 minutos"
   ]
  },
  {
   "cell_type": "markdown",
   "metadata": {
    "id": "q02SEGNwdsEv"
   },
   "source": [
    "limpio el ambiente de R"
   ]
  },
  {
   "cell_type": "code",
   "execution_count": 26,
   "metadata": {
    "id": "6c2ZJstWdsEw"
   },
   "outputs": [
    {
     "data": {
      "text/html": [
       "<table class=\"dataframe\">\n",
       "<caption>A matrix: 2 × 6 of type dbl</caption>\n",
       "<thead>\n",
       "\t<tr><th></th><th scope=col>used</th><th scope=col>(Mb)</th><th scope=col>gc trigger</th><th scope=col>(Mb)</th><th scope=col>max used</th><th scope=col>(Mb)</th></tr>\n",
       "</thead>\n",
       "<tbody>\n",
       "\t<tr><th scope=row>Ncells</th><td>1381669</td><td>73.8</td><td> 2333465</td><td>124.7</td><td> 2333465</td><td>124.7</td></tr>\n",
       "\t<tr><th scope=row>Vcells</th><td>2488824</td><td>19.0</td><td>58766408</td><td>448.4</td><td>73258576</td><td>559.0</td></tr>\n",
       "</tbody>\n",
       "</table>\n"
      ],
      "text/latex": [
       "A matrix: 2 × 6 of type dbl\n",
       "\\begin{tabular}{r|llllll}\n",
       "  & used & (Mb) & gc trigger & (Mb) & max used & (Mb)\\\\\n",
       "\\hline\n",
       "\tNcells & 1381669 & 73.8 &  2333465 & 124.7 &  2333465 & 124.7\\\\\n",
       "\tVcells & 2488824 & 19.0 & 58766408 & 448.4 & 73258576 & 559.0\\\\\n",
       "\\end{tabular}\n"
      ],
      "text/markdown": [
       "\n",
       "A matrix: 2 × 6 of type dbl\n",
       "\n",
       "| <!--/--> | used | (Mb) | gc trigger | (Mb) | max used | (Mb) |\n",
       "|---|---|---|---|---|---|---|\n",
       "| Ncells | 1381669 | 73.8 |  2333465 | 124.7 |  2333465 | 124.7 |\n",
       "| Vcells | 2488824 | 19.0 | 58766408 | 448.4 | 73258576 | 559.0 |\n",
       "\n"
      ],
      "text/plain": [
       "       used    (Mb) gc trigger (Mb)  max used (Mb) \n",
       "Ncells 1381669 73.8  2333465   124.7  2333465 124.7\n",
       "Vcells 2488824 19.0 58766408   448.4 73258576 559.0"
      ]
     },
     "metadata": {},
     "output_type": "display_data"
    }
   ],
   "source": [
    "# limpio la memoria\n",
    "rm(list=ls(all.names=TRUE)) # remove all objects\n",
    "gc(full=TRUE, verbose=FALSE) # garbage collection"
   ]
  },
  {
   "cell_type": "markdown",
   "metadata": {
    "id": "62MIW0r1dsEx"
   },
   "source": [
    "* Instalacion de la libreria  rpart.plot  para dibujar el arbol\n",
    "* invocacion de las librerias  **data.table** y  **rpart**"
   ]
  },
  {
   "cell_type": "code",
   "execution_count": 27,
   "metadata": {
    "id": "2Ke4n-N8dsEy"
   },
   "outputs": [],
   "source": [
    "# cargo las librerias que necesito\n",
    "require(\"data.table\")\n",
    "require(\"rpart\")\n",
    "require(\"parallel\")\n",
    "\n",
    "if (!require(\"primes\")) install.packages(\"primes\")\n",
    "require(\"primes\")\n",
    "\n",
    "require(\"ggplot2\")"
   ]
  },
  {
   "cell_type": "markdown",
   "metadata": {
    "id": "UHSoeqi4dsEz"
   },
   "source": [
    "###  Accion a Realizar\n",
    "PARAM$semilla_primigenia  debe reemplazarse por SU primer semilla"
   ]
  },
  {
   "cell_type": "code",
   "execution_count": 28,
   "metadata": {
    "id": "f08_sqfAdsEz"
   },
   "outputs": [],
   "source": [
    "PARAM <- list()\n",
    "PARAM$semilla_primigenia <- 111119\n",
    "PARAM$qsemillas <- 50\n",
    "PARAM$training_pct <- 70L     # entre 1 y 100\n"
   ]
  },
  {
   "cell_type": "code",
   "execution_count": 29,
   "metadata": {
    "id": "L735D9rydsE0"
   },
   "outputs": [],
   "source": [
    "# los dos arboles\n",
    "PARAM$rpart1 <- list (\n",
    "  \"cp\" = -1,\n",
    "  \"minsplit\" = 170,\n",
    "  \"minbucket\" = 70,\n",
    "  \"maxdepth\" = 7\n",
    ")\n",
    "\n",
    "\n",
    "PARAM$rpart2 <- list (\n",
    "  \"cp\" = -1,\n",
    "  \"minsplit\" = 1900,\n",
    "  \"minbucket\" = 800,\n",
    "  \"maxdepth\" = 3\n",
    ")\n"
   ]
  },
  {
   "cell_type": "code",
   "execution_count": 30,
   "metadata": {
    "id": "O56epLUGdsE1"
   },
   "outputs": [],
   "source": [
    "# particionar agrega una columna llamada fold a un dataset\n",
    "#  que consiste en una particion estratificada segun agrupa\n",
    "\n",
    "# particionar( data=dataset, division=c(70,30),\n",
    "#  agrupa=clase_ternaria, seed=semilla)   crea una particion 70, 30\n",
    "\n",
    "particionar <- function(\n",
    "    data, division, agrupa = \"\",\n",
    "    campo = \"fold\", start = 1, seed = NA) {\n",
    "  if (!is.na(seed)) set.seed(seed)\n",
    "\n",
    "  bloque <- unlist(mapply(function(x, y) {\n",
    "    rep(y, x)\n",
    "  }, division, seq(from = start, length.out = length(division))))\n",
    "\n",
    "  data[, (campo) := sample(rep(bloque, ceiling(.N / length(bloque))))[1:.N],\n",
    "    by = agrupa\n",
    "  ]\n",
    "}\n"
   ]
  },
  {
   "cell_type": "code",
   "execution_count": 31,
   "metadata": {
    "id": "Bv_NorLhdsE1"
   },
   "outputs": [],
   "source": [
    "DosArbolesEstimarGanancia <- function(semilla, training_pct, param_rpart1, param_rpart2) {\n",
    "  # fuerzo impresion\n",
    "  print( paste( semilla, Sys.time()) )\n",
    "  flush.console()\n",
    "\n",
    "  # particiono estratificadamente el dataset\n",
    "  particionar(dataset,\n",
    "    division = c(training_pct, 100L -training_pct),\n",
    "    agrupa = \"clase_ternaria\",\n",
    "    seed = semilla # aqui se usa SU semilla\n",
    "  )\n",
    "\n",
    "  # genero el modelo\n",
    "  # predecir clase_ternaria a partir del resto\n",
    "  modelo1 <- rpart(\"clase_ternaria ~ .\",\n",
    "    data = dataset[fold == 1], # fold==1  es training,  el 70% de los datos\n",
    "    xval = 0,\n",
    "    control = param_rpart1\n",
    "  ) # aqui van los parametros del arbol\n",
    "\n",
    "  # aplico el modelo a los datos de testing\n",
    "  prediccion1 <- predict(modelo1, # el modelo que genere recien\n",
    "    dataset[fold == 2], # fold==2  es testing, el 30% de los datos\n",
    "    type = \"prob\"\n",
    "  ) # type= \"prob\"  es que devuelva la probabilidad\n",
    "\n",
    "\n",
    "  # calculo la ganancia en testing  qu es fold==2\n",
    "  ganancia_test1 <- dataset[\n",
    "    fold == 2,\n",
    "    sum(ifelse(prediccion1[, \"BAJA+2\"] > 0.025,\n",
    "      ifelse(clase_ternaria == \"BAJA+2\", 117000, -3000),\n",
    "      0\n",
    "    ))\n",
    "  ]\n",
    "\n",
    "  # escalo la ganancia como si fuera todo el dataset\n",
    "  ganancia_test_normalizada1 <- ganancia_test1 / (( 100 - training_pct ) / 100 )\n",
    "\n",
    "  modelo2 <- rpart(\"clase_ternaria ~ .\",\n",
    "    data = dataset[fold == 1], # fold==1  es training,  el 70% de los datos\n",
    "    xval = 0,\n",
    "    control = param_rpart2\n",
    "  ) # aqui van los parametros del arbol\n",
    "\n",
    "  # aplico el modelo a los datos de testing\n",
    "  prediccion2 <- predict(modelo2, # el modelo que genere recien\n",
    "    dataset[fold == 2], # fold==2  es testing, el 30% de los datos\n",
    "    type = \"prob\"\n",
    "  ) # type= \"prob\"  es que devuelva la probabilidad\n",
    "\n",
    "\n",
    "  # calculo la ganancia en testing  qu es fold==2\n",
    "  ganancia_test2 <- dataset[\n",
    "    fold == 2,\n",
    "    sum(ifelse(prediccion2[, \"BAJA+2\"] > 0.025,\n",
    "      ifelse(clase_ternaria == \"BAJA+2\", 117000, -3000),\n",
    "      0\n",
    "    ))\n",
    "  ]\n",
    "\n",
    "  # escalo la ganancia como si fuera todo el dataset\n",
    "  ganancia_test_normalizada2 <- ganancia_test2 / (( 100 - training_pct ) / 100 )\n",
    "\n",
    "  return(list(\n",
    "    \"semilla\" = semilla,\n",
    "    \"ganancia1\" = ganancia_test_normalizada1,\n",
    "    \"ganancia2\" = ganancia_test_normalizada2\n",
    "  ))\n",
    "}"
   ]
  },
  {
   "cell_type": "code",
   "execution_count": 32,
   "metadata": {
    "id": "N9GarblIdsE3"
   },
   "outputs": [],
   "source": [
    "# carpeta de trabajo\n",
    "setwd(\"/content/buckets/b1/exp\")\n",
    "experimento <- \"exp206\"\n",
    "dir.create(experimento, showWarnings=FALSE)\n",
    "setwd( paste0(\"/content/buckets/b1/exp/\", experimento ))"
   ]
  },
  {
   "cell_type": "code",
   "execution_count": 33,
   "metadata": {
    "id": "Z05r3wdTdsE3"
   },
   "outputs": [],
   "source": [
    "# lectura del dataset\n",
    "dataset <- fread(\"/content/datasets/dataset_pequeno.csv\")\n",
    "\n",
    "# trabajo solo con los datos con clase, es decir 202107\n",
    "dataset <- dataset[clase_ternaria != \"\"]"
   ]
  },
  {
   "cell_type": "code",
   "execution_count": 34,
   "metadata": {
    "id": "m8ODrVrndsE4"
   },
   "outputs": [],
   "source": [
    "# genero numeros primos\n",
    "primos <- generate_primes(min = 100000, max = 1000000)\n",
    "set.seed(PARAM$semilla_primigenia) # inicializo\n",
    "\n",
    "# me quedo con PARAM$qsemillas   semillas\n",
    "PARAM$semillas <- sample(primos, PARAM$qsemillas )"
   ]
  },
  {
   "cell_type": "code",
   "execution_count": 35,
   "metadata": {
    "id": "KQBhUXxJdsE5"
   },
   "outputs": [
    {
     "data": {
      "text/plain": [
       "[1] \"2025-10-04 22:02:58 UTC\""
      ]
     },
     "metadata": {},
     "output_type": "display_data"
    },
    {
     "data": {
      "text/plain": [
       "[1] \"2025-10-04 22:19:22 UTC\""
      ]
     },
     "metadata": {},
     "output_type": "display_data"
    }
   ],
   "source": [
    "# la funcion mcmapply  llama a la funcion DosArbolesEstimarGanancia\n",
    "#  tantas veces como valores tenga el vector  PARAM$semillas\n",
    "Sys.time()\n",
    "\n",
    "salidas <- mcmapply( DosArbolesEstimarGanancia,\n",
    "  PARAM$semillas, # paso el vector de semillas\n",
    "  MoreArgs = list(PARAM$training_pct, PARAM$rpart1, PARAM$rpart2), # aqui paso el segundo parametro\n",
    "  SIMPLIFY = FALSE,\n",
    "  mc.cores = detectCores()\n",
    ")\n",
    "\n",
    "Sys.time()"
   ]
  },
  {
   "cell_type": "code",
   "execution_count": 36,
   "metadata": {
    "id": "N0eS1CFFdsE5"
   },
   "outputs": [
    {
     "data": {
      "text/html": [
       "<table class=\"dataframe\">\n",
       "<caption>A data.table: 50 × 3</caption>\n",
       "<thead>\n",
       "\t<tr><th scope=col>semilla</th><th scope=col>ganancia1</th><th scope=col>ganancia2</th></tr>\n",
       "\t<tr><th scope=col>&lt;int&gt;</th><th scope=col>&lt;dbl&gt;</th><th scope=col>&lt;dbl&gt;</th></tr>\n",
       "</thead>\n",
       "<tbody>\n",
       "\t<tr><td>989753</td><td>43560000</td><td>46770000</td></tr>\n",
       "\t<tr><td>609751</td><td>46140000</td><td>50050000</td></tr>\n",
       "\t<tr><td>417511</td><td>43240000</td><td>42540000</td></tr>\n",
       "\t<tr><td>243553</td><td>52200000</td><td>46820000</td></tr>\n",
       "\t<tr><td>843131</td><td>48760000</td><td>47290000</td></tr>\n",
       "\t<tr><td>577463</td><td>46750000</td><td>48270000</td></tr>\n",
       "\t<tr><td>761977</td><td>51560000</td><td>47620000</td></tr>\n",
       "\t<tr><td>649277</td><td>48900000</td><td>51000000</td></tr>\n",
       "\t<tr><td>495413</td><td>48160000</td><td>44870000</td></tr>\n",
       "\t<tr><td>244129</td><td>48420000</td><td>47790000</td></tr>\n",
       "\t<tr><td>911089</td><td>45630000</td><td>49200000</td></tr>\n",
       "\t<tr><td>257293</td><td>51150000</td><td>53840000</td></tr>\n",
       "\t<tr><td>371587</td><td>51610000</td><td>48850000</td></tr>\n",
       "\t<tr><td>457183</td><td>52890000</td><td>49380000</td></tr>\n",
       "\t<tr><td>272227</td><td>49490000</td><td>47330000</td></tr>\n",
       "\t<tr><td>980081</td><td>53080000</td><td>51140000</td></tr>\n",
       "\t<tr><td>231919</td><td>53010000</td><td>50410000</td></tr>\n",
       "\t<tr><td>254729</td><td>49180000</td><td>49360000</td></tr>\n",
       "\t<tr><td>393013</td><td>51900000</td><td>47990000</td></tr>\n",
       "\t<tr><td>974891</td><td>51310000</td><td>53590000</td></tr>\n",
       "\t<tr><td>602521</td><td>47310000</td><td>50970000</td></tr>\n",
       "\t<tr><td>997279</td><td>53280000</td><td>52420000</td></tr>\n",
       "\t<tr><td>841219</td><td>47950000</td><td>51260000</td></tr>\n",
       "\t<tr><td>479839</td><td>48260000</td><td>48750000</td></tr>\n",
       "\t<tr><td>886337</td><td>52240000</td><td>51980000</td></tr>\n",
       "\t<tr><td>553411</td><td>50980000</td><td>49020000</td></tr>\n",
       "\t<tr><td>116189</td><td>45290000</td><td>44990000</td></tr>\n",
       "\t<tr><td>640259</td><td>52150000</td><td>48860000</td></tr>\n",
       "\t<tr><td>288823</td><td>48230000</td><td>46650000</td></tr>\n",
       "\t<tr><td>227299</td><td>56950000</td><td>56560000</td></tr>\n",
       "\t<tr><td>908597</td><td>53770000</td><td>50940000</td></tr>\n",
       "\t<tr><td>671647</td><td>47890000</td><td>46600000</td></tr>\n",
       "\t<tr><td>824833</td><td>45710000</td><td>50720000</td></tr>\n",
       "\t<tr><td>835217</td><td>45660000</td><td>46410000</td></tr>\n",
       "\t<tr><td>368689</td><td>48940000</td><td>49230000</td></tr>\n",
       "\t<tr><td>505117</td><td>45820000</td><td>46980000</td></tr>\n",
       "\t<tr><td>321823</td><td>51990000</td><td>49410000</td></tr>\n",
       "\t<tr><td>621541</td><td>44970000</td><td>45020000</td></tr>\n",
       "\t<tr><td>135929</td><td>46710000</td><td>47850000</td></tr>\n",
       "\t<tr><td>187049</td><td>50610000</td><td>52470000</td></tr>\n",
       "\t<tr><td>660047</td><td>45580000</td><td>46650000</td></tr>\n",
       "\t<tr><td>649381</td><td>53240000</td><td>52030000</td></tr>\n",
       "\t<tr><td>428957</td><td>53500000</td><td>49200000</td></tr>\n",
       "\t<tr><td>664421</td><td>48610000</td><td>42050000</td></tr>\n",
       "\t<tr><td>717161</td><td>49090000</td><td>50470000</td></tr>\n",
       "\t<tr><td>460813</td><td>53940000</td><td>50460000</td></tr>\n",
       "\t<tr><td>168677</td><td>49380000</td><td>49260000</td></tr>\n",
       "\t<tr><td>483629</td><td>53550000</td><td>51400000</td></tr>\n",
       "\t<tr><td>392503</td><td>48570000</td><td>48800000</td></tr>\n",
       "\t<tr><td>259577</td><td>44410000</td><td>39290000</td></tr>\n",
       "</tbody>\n",
       "</table>\n"
      ],
      "text/latex": [
       "A data.table: 50 × 3\n",
       "\\begin{tabular}{lll}\n",
       " semilla & ganancia1 & ganancia2\\\\\n",
       " <int> & <dbl> & <dbl>\\\\\n",
       "\\hline\n",
       "\t 989753 & 43560000 & 46770000\\\\\n",
       "\t 609751 & 46140000 & 50050000\\\\\n",
       "\t 417511 & 43240000 & 42540000\\\\\n",
       "\t 243553 & 52200000 & 46820000\\\\\n",
       "\t 843131 & 48760000 & 47290000\\\\\n",
       "\t 577463 & 46750000 & 48270000\\\\\n",
       "\t 761977 & 51560000 & 47620000\\\\\n",
       "\t 649277 & 48900000 & 51000000\\\\\n",
       "\t 495413 & 48160000 & 44870000\\\\\n",
       "\t 244129 & 48420000 & 47790000\\\\\n",
       "\t 911089 & 45630000 & 49200000\\\\\n",
       "\t 257293 & 51150000 & 53840000\\\\\n",
       "\t 371587 & 51610000 & 48850000\\\\\n",
       "\t 457183 & 52890000 & 49380000\\\\\n",
       "\t 272227 & 49490000 & 47330000\\\\\n",
       "\t 980081 & 53080000 & 51140000\\\\\n",
       "\t 231919 & 53010000 & 50410000\\\\\n",
       "\t 254729 & 49180000 & 49360000\\\\\n",
       "\t 393013 & 51900000 & 47990000\\\\\n",
       "\t 974891 & 51310000 & 53590000\\\\\n",
       "\t 602521 & 47310000 & 50970000\\\\\n",
       "\t 997279 & 53280000 & 52420000\\\\\n",
       "\t 841219 & 47950000 & 51260000\\\\\n",
       "\t 479839 & 48260000 & 48750000\\\\\n",
       "\t 886337 & 52240000 & 51980000\\\\\n",
       "\t 553411 & 50980000 & 49020000\\\\\n",
       "\t 116189 & 45290000 & 44990000\\\\\n",
       "\t 640259 & 52150000 & 48860000\\\\\n",
       "\t 288823 & 48230000 & 46650000\\\\\n",
       "\t 227299 & 56950000 & 56560000\\\\\n",
       "\t 908597 & 53770000 & 50940000\\\\\n",
       "\t 671647 & 47890000 & 46600000\\\\\n",
       "\t 824833 & 45710000 & 50720000\\\\\n",
       "\t 835217 & 45660000 & 46410000\\\\\n",
       "\t 368689 & 48940000 & 49230000\\\\\n",
       "\t 505117 & 45820000 & 46980000\\\\\n",
       "\t 321823 & 51990000 & 49410000\\\\\n",
       "\t 621541 & 44970000 & 45020000\\\\\n",
       "\t 135929 & 46710000 & 47850000\\\\\n",
       "\t 187049 & 50610000 & 52470000\\\\\n",
       "\t 660047 & 45580000 & 46650000\\\\\n",
       "\t 649381 & 53240000 & 52030000\\\\\n",
       "\t 428957 & 53500000 & 49200000\\\\\n",
       "\t 664421 & 48610000 & 42050000\\\\\n",
       "\t 717161 & 49090000 & 50470000\\\\\n",
       "\t 460813 & 53940000 & 50460000\\\\\n",
       "\t 168677 & 49380000 & 49260000\\\\\n",
       "\t 483629 & 53550000 & 51400000\\\\\n",
       "\t 392503 & 48570000 & 48800000\\\\\n",
       "\t 259577 & 44410000 & 39290000\\\\\n",
       "\\end{tabular}\n"
      ],
      "text/markdown": [
       "\n",
       "A data.table: 50 × 3\n",
       "\n",
       "| semilla &lt;int&gt; | ganancia1 &lt;dbl&gt; | ganancia2 &lt;dbl&gt; |\n",
       "|---|---|---|\n",
       "| 989753 | 43560000 | 46770000 |\n",
       "| 609751 | 46140000 | 50050000 |\n",
       "| 417511 | 43240000 | 42540000 |\n",
       "| 243553 | 52200000 | 46820000 |\n",
       "| 843131 | 48760000 | 47290000 |\n",
       "| 577463 | 46750000 | 48270000 |\n",
       "| 761977 | 51560000 | 47620000 |\n",
       "| 649277 | 48900000 | 51000000 |\n",
       "| 495413 | 48160000 | 44870000 |\n",
       "| 244129 | 48420000 | 47790000 |\n",
       "| 911089 | 45630000 | 49200000 |\n",
       "| 257293 | 51150000 | 53840000 |\n",
       "| 371587 | 51610000 | 48850000 |\n",
       "| 457183 | 52890000 | 49380000 |\n",
       "| 272227 | 49490000 | 47330000 |\n",
       "| 980081 | 53080000 | 51140000 |\n",
       "| 231919 | 53010000 | 50410000 |\n",
       "| 254729 | 49180000 | 49360000 |\n",
       "| 393013 | 51900000 | 47990000 |\n",
       "| 974891 | 51310000 | 53590000 |\n",
       "| 602521 | 47310000 | 50970000 |\n",
       "| 997279 | 53280000 | 52420000 |\n",
       "| 841219 | 47950000 | 51260000 |\n",
       "| 479839 | 48260000 | 48750000 |\n",
       "| 886337 | 52240000 | 51980000 |\n",
       "| 553411 | 50980000 | 49020000 |\n",
       "| 116189 | 45290000 | 44990000 |\n",
       "| 640259 | 52150000 | 48860000 |\n",
       "| 288823 | 48230000 | 46650000 |\n",
       "| 227299 | 56950000 | 56560000 |\n",
       "| 908597 | 53770000 | 50940000 |\n",
       "| 671647 | 47890000 | 46600000 |\n",
       "| 824833 | 45710000 | 50720000 |\n",
       "| 835217 | 45660000 | 46410000 |\n",
       "| 368689 | 48940000 | 49230000 |\n",
       "| 505117 | 45820000 | 46980000 |\n",
       "| 321823 | 51990000 | 49410000 |\n",
       "| 621541 | 44970000 | 45020000 |\n",
       "| 135929 | 46710000 | 47850000 |\n",
       "| 187049 | 50610000 | 52470000 |\n",
       "| 660047 | 45580000 | 46650000 |\n",
       "| 649381 | 53240000 | 52030000 |\n",
       "| 428957 | 53500000 | 49200000 |\n",
       "| 664421 | 48610000 | 42050000 |\n",
       "| 717161 | 49090000 | 50470000 |\n",
       "| 460813 | 53940000 | 50460000 |\n",
       "| 168677 | 49380000 | 49260000 |\n",
       "| 483629 | 53550000 | 51400000 |\n",
       "| 392503 | 48570000 | 48800000 |\n",
       "| 259577 | 44410000 | 39290000 |\n",
       "\n"
      ],
      "text/plain": [
       "   semilla ganancia1 ganancia2\n",
       "1  989753  43560000  46770000 \n",
       "2  609751  46140000  50050000 \n",
       "3  417511  43240000  42540000 \n",
       "4  243553  52200000  46820000 \n",
       "5  843131  48760000  47290000 \n",
       "6  577463  46750000  48270000 \n",
       "7  761977  51560000  47620000 \n",
       "8  649277  48900000  51000000 \n",
       "9  495413  48160000  44870000 \n",
       "10 244129  48420000  47790000 \n",
       "11 911089  45630000  49200000 \n",
       "12 257293  51150000  53840000 \n",
       "13 371587  51610000  48850000 \n",
       "14 457183  52890000  49380000 \n",
       "15 272227  49490000  47330000 \n",
       "16 980081  53080000  51140000 \n",
       "17 231919  53010000  50410000 \n",
       "18 254729  49180000  49360000 \n",
       "19 393013  51900000  47990000 \n",
       "20 974891  51310000  53590000 \n",
       "21 602521  47310000  50970000 \n",
       "22 997279  53280000  52420000 \n",
       "23 841219  47950000  51260000 \n",
       "24 479839  48260000  48750000 \n",
       "25 886337  52240000  51980000 \n",
       "26 553411  50980000  49020000 \n",
       "27 116189  45290000  44990000 \n",
       "28 640259  52150000  48860000 \n",
       "29 288823  48230000  46650000 \n",
       "30 227299  56950000  56560000 \n",
       "31 908597  53770000  50940000 \n",
       "32 671647  47890000  46600000 \n",
       "33 824833  45710000  50720000 \n",
       "34 835217  45660000  46410000 \n",
       "35 368689  48940000  49230000 \n",
       "36 505117  45820000  46980000 \n",
       "37 321823  51990000  49410000 \n",
       "38 621541  44970000  45020000 \n",
       "39 135929  46710000  47850000 \n",
       "40 187049  50610000  52470000 \n",
       "41 660047  45580000  46650000 \n",
       "42 649381  53240000  52030000 \n",
       "43 428957  53500000  49200000 \n",
       "44 664421  48610000  42050000 \n",
       "45 717161  49090000  50470000 \n",
       "46 460813  53940000  50460000 \n",
       "47 168677  49380000  49260000 \n",
       "48 483629  53550000  51400000 \n",
       "49 392503  48570000  48800000 \n",
       "50 259577  44410000  39290000 "
      ]
     },
     "metadata": {},
     "output_type": "display_data"
    }
   ],
   "source": [
    "# paso la lista a vector\n",
    "tb_salida <- rbindlist(salidas)\n",
    "tb_salida"
   ]
  },
  {
   "cell_type": "code",
   "execution_count": 37,
   "metadata": {
    "id": "6vf28ujAdsE6"
   },
   "outputs": [
    {
     "name": "stderr",
     "output_type": "stream",
     "text": [
      "Warning message in fortify(data, ...):\n",
      "“\u001b[1m\u001b[22mArguments in `...` must be used.\n",
      "\u001b[31m✖\u001b[39m Problematic arguments:\n",
      "\u001b[36m•\u001b[39m fill = \"green\"\n",
      "\u001b[36m•\u001b[39m color = \"green\"\n",
      "\u001b[36mℹ\u001b[39m Did you misspell an argument name?”\n"
     ]
    },
    {
     "data": {
      "image/png": "[encoded data removed]",
      "text/plain": [
       "plot without title"
      ]
     },
     "metadata": {
      "image/png": {
       "height": 420,
       "width": 420
      }
     },
     "output_type": "display_data"
    }
   ],
   "source": [
    "grafico <- ggplot( tb_salida, aes(x=ganancia1), fill=\"green\", color=\"green\") + geom_density(alpha=0.25)  +\n",
    "             geom_density(data=tb_salida, aes(x=ganancia2), fill=\"purple\", color=\"purple\",  alpha=0.10)\n",
    "\n",
    "print(grafico)"
   ]
  },
  {
   "cell_type": "code",
   "execution_count": 38,
   "metadata": {
    "id": "TA9lLa6-dsE6"
   },
   "outputs": [
    {
     "data": {
      "text/html": [
       "<strong>agg_record_727097633:</strong> 2"
      ],
      "text/latex": [
       "\\textbf{agg\\textbackslash{}\\_record\\textbackslash{}\\_727097633:} 2"
      ],
      "text/markdown": [
       "**agg_record_727097633:** 2"
      ],
      "text/plain": [
       "agg_record_727097633 \n",
       "                   2 "
      ]
     },
     "metadata": {},
     "output_type": "display_data"
    }
   ],
   "source": [
    "# imprimo en un .pdf  que va a la carpeta del experimento\n",
    "pdf(\"densidad_dos.pdf\")\n",
    "print(grafico)\n",
    "dev.off()"
   ]
  },
  {
   "cell_type": "code",
   "execution_count": 39,
   "metadata": {
    "id": "xAOpyZTqdsE7"
   },
   "outputs": [
    {
     "name": "stdout",
     "output_type": "stream",
     "text": [
      "     arbol1   arbol2\n",
      "      <num>    <num>\n",
      "1: 49430400 48816200\n"
     ]
    }
   ],
   "source": [
    "# medias de las ganancias\n",
    "print( tb_salida[ , list( \"arbol1\" = mean( ganancia1),  \"arbol2\" = mean(ganancia2) ) ] )\n"
   ]
  },
  {
   "cell_type": "code",
   "execution_count": 40,
   "metadata": {
    "id": "8rdPIcfzgob7"
   },
   "outputs": [
    {
     "name": "stdout",
     "output_type": "stream",
     "text": [
      "   prob( m1 > m2)\n",
      "            <num>\n",
      "1:           0.58\n"
     ]
    }
   ],
   "source": [
    "# probabilidad que m1 sea mayor a m2\n",
    "print( tb_salida[ , list( \"prob( m1 > m2)\" = sum(ganancia1 > ganancia2 )/ .N ) ]  )"
   ]
  },
  {
   "cell_type": "markdown",
   "metadata": {
    "id": "nNNJWYRadsE7"
   },
   "source": [
    "### Acciones a realizar\n",
    "* Reportar la  los resultados en la planilla colaborativa hoja  **C2-dosBuenos**\n"
   ]
  },
  {
   "cell_type": "markdown",
   "metadata": {
    "id": "LTBEq6SEdsE8"
   },
   "source": [
    "\n",
    "\n",
    "---\n",
    "\n"
   ]
  },
  {
   "cell_type": "markdown",
   "metadata": {
    "id": "ebcTZX7Sg1Le"
   },
   "source": []
  },
  {
   "cell_type": "markdown",
   "metadata": {
    "id": "RAtn4x6Bg1u1"
   },
   "source": [
    "# 8 Test de Wilcoxon\n",
    "## Clase 02  Experimento 8"
   ]
  },
  {
   "cell_type": "markdown",
   "metadata": {
    "id": "RWxjnSsVg_ol"
   },
   "source": []
  },
  {
   "cell_type": "markdown",
   "metadata": {
    "id": "Gf0LF3ywhAEU"
   },
   "source": [
    "## 8.1  Objetivos\n",
    "\n",
    "¿Como calcular la cantidad mínima de semillas que hacen falta para tener cierta certeza que un modelo es superior a otro?"
   ]
  },
  {
   "cell_type": "markdown",
   "metadata": {
    "id": "k4PJGTDViZne"
   },
   "source": [
    "## 8.2  Introduccion\n",
    "\n",
    "| Hiperparámetro | Arbol 1 | Arbol 2 |\n",
    "| --- | --: |  ---: |\n",
    "| cp | -1 | -1 |\n",
    "|minsplit | 170 | 250 |\n",
    "|minbucket | 70 | 125 |\n",
    "|maxdepth | 7 | 20 |\n",
    "\n",
    "<br>\n",
    "<br>\n",
    "\n",
    "\n",
    "| ordinal | semilla | ganancia1 | ganancia2 | p-value |\n",
    "| --- | --- |  --- |  --- |  --- |\n",
    "| 1 |378821 | 41,470,000 | 37,790,000 | 1.000 |\n",
    "| 2 | 964333  | 48,480,000  | 43,660,000 | 0.500 |\n",
    "| 3 | 187049 | 50,610,000 | 47,840,000 | 0.250 |\n",
    "| 4 | 205151 | 45,580,000 | 44,490,000 | 0.125 |\n",
    "| 5 | 813697 | 52,780,000 | 46,750,000 |  0.063 |\n",
    "| 6 | 344719 | 49,970,000 | 44,300,000 | 0.031 |\n",
    "|7 |127217  |52,810,000 | 42,840,000 |0.016 |\n",
    "| 8 | 464371 | 43,060,000 | 37,300,000 | 0.008 |\n",
    "| 9 | 645137 | 49,660,000 |43,730,000 | 0.004|\n",
    "\n",
    "\n"
   ]
  },
  {
   "cell_type": "markdown",
   "metadata": {
    "id": "gAeSRdWRhg61"
   },
   "source": [
    "## 8.3 Codigo Test de Wilcoxon"
   ]
  },
  {
   "cell_type": "code",
   "execution_count": null,
   "metadata": {
    "id": "6r5M0J0HdsE8"
   },
   "outputs": [],
   "source": [
    "# 1 sola ganancia\n",
    "wilcox.test(\n",
    "  c(41470000),\n",
    "  c(37790000),\n",
    "  paired = TRUE\n",
    ")\n"
   ]
  },
  {
   "cell_type": "code",
   "execution_count": null,
   "metadata": {
    "id": "1pscqL9vLzYE"
   },
   "outputs": [],
   "source": [
    "# 2 ganancias\n",
    "wilcox.test(\n",
    "  c(41470000, 48480000),\n",
    "  c(37790000, 43660000),\n",
    "  paired = TRUE\n",
    ")\n"
   ]
  },
  {
   "cell_type": "code",
   "execution_count": null,
   "metadata": {
    "id": "p3f_mtKwhSHA"
   },
   "outputs": [],
   "source": [
    "# 3 ganancias\n",
    "wilcox.test(\n",
    "  c(41470000, 48480000, 50610000),\n",
    "  c(37790000, 43660000, 47840000),\n",
    "  paired = TRUE\n",
    ")"
   ]
  },
  {
   "cell_type": "code",
   "execution_count": null,
   "metadata": {
    "id": "-ijX69r9hT6Z"
   },
   "outputs": [],
   "source": [
    "# 4 ganancias\n",
    "wilcox.test(\n",
    "  c(41470000, 48480000, 50610000, 45580000),\n",
    "  c(37790000, 43660000, 47840000, 44490000),\n",
    "  paired = TRUE\n",
    ")\n"
   ]
  },
  {
   "cell_type": "code",
   "execution_count": null,
   "metadata": {
    "id": "X9J_CHGehVfr"
   },
   "outputs": [],
   "source": [
    "# 5 ganancias\n",
    "wilcox.test(\n",
    "  c(41470000, 48480000, 50610000, 45580000, 52780000),\n",
    "  c(37790000, 43660000, 47840000, 44490000, 46750000),\n",
    "  paired = TRUE\n",
    ")"
   ]
  },
  {
   "cell_type": "code",
   "execution_count": null,
   "metadata": {
    "id": "H3CNNonOhXp0"
   },
   "outputs": [],
   "source": [
    "# 6 ganancias\n",
    "wilcox.test(\n",
    "  c(41470000, 48480000, 50610000, 45580000, 52780000, 49970000),\n",
    "  c(37790000, 43660000, 47840000, 44490000, 46750000, 44300000),\n",
    "  paired = TRUE\n",
    ")"
   ]
  },
  {
   "cell_type": "code",
   "execution_count": null,
   "metadata": {
    "id": "NTW8kwY8hamz"
   },
   "outputs": [],
   "source": [
    "# Finalmente el p-value es  0.03125  < 0.05\n",
    "# hicieron falta  SEIS semillas, seis ganancias, para\n",
    "#   afirmar que el modelo 1 es superior al modelo 2\n",
    "\n",
    "# 7 ganancias\n",
    "wilcox.test(\n",
    "  c(41470000, 48480000, 50610000, 45580000, 52780000, 49970000, 52810000),\n",
    "  c(37790000, 43660000, 47840000, 44490000, 46750000, 44300000, 42840000),\n",
    "  paired = TRUE\n",
    ")\n"
   ]
  },
  {
   "cell_type": "code",
   "execution_count": null,
   "metadata": {
    "id": "Xks918w8hcgC"
   },
   "outputs": [],
   "source": [
    "# 8 ganancias\n",
    "wilcox.test(\n",
    "  c(41470000, 48480000, 50610000, 45580000, 52780000, 49970000, 52810000, 43060000),\n",
    "  c(37790000, 43660000, 47840000, 44490000, 46750000, 44300000, 42840000, 37300000),\n",
    "  paired = TRUE\n",
    ")\n"
   ]
  },
  {
   "cell_type": "code",
   "execution_count": null,
   "metadata": {
    "id": "5x8L1PMGhdJR"
   },
   "outputs": [],
   "source": [
    "# 9 ganancias\n",
    "wilcox.test(\n",
    "  c(41470000, 48480000, 50610000, 45580000, 52780000, 49970000, 52810000, 43060000, 49660000),\n",
    "  c(37790000, 43660000, 47840000, 44490000, 46750000, 44300000, 42840000, 37300000, 43730000),\n",
    "  paired = TRUE\n",
    ")"
   ]
  },
  {
   "cell_type": "markdown",
   "metadata": {
    "id": "Qjay2WBIkhNm"
   },
   "source": [
    "\n",
    "\n",
    "---\n",
    "\n"
   ]
  },
  {
   "cell_type": "markdown",
   "metadata": {
    "id": "g2aqxlCIk3fk"
   },
   "source": [
    "# 9 Comparando automaticamente modelos con test de Wilcoxon\n",
    "## Clase 02  Experimento 9"
   ]
  },
  {
   "cell_type": "markdown",
   "metadata": {
    "id": "FhCY4sH8k3fw"
   },
   "source": []
  },
  {
   "cell_type": "markdown",
   "metadata": {
    "id": "a_ZVBKBHk3fx"
   },
   "source": [
    "## 9.1  Objetivos\n",
    "\n",
    "Proveer un script que permita comparar dos arboles de decisión con la librería rpart utilizando la menor cantidad de cómputo que permita el Test de Wilxcoxon"
   ]
  },
  {
   "cell_type": "markdown",
   "metadata": {
    "id": "qCd56L0Ik3fx"
   },
   "source": [
    "## 9.2  Introduccion\n",
    "\n",
    "| Hiperparámetro | Arbol 1 | Arbol 2 |\n",
    "| --- | --- |  --- |\n",
    "| cp | -1 | -1 |\n",
    "|minsplit | 1050 | 650 |\n",
    "|minbucket | 550 | 300 |\n",
    "|maxdepth |67 | 6 |\n",
    "\n",
    "\n"
   ]
  },
  {
   "cell_type": "markdown",
   "metadata": {
    "id": "NBtQsG3vk3fx"
   },
   "source": [
    "## 9.3 Codigo comparacion automatica Wilcoxon"
   ]
  },
  {
   "cell_type": "markdown",
   "metadata": {
    "id": "-ARzDPORlpG6"
   },
   "source": [
    "Esta parte se debe correr con el runtime en lenguaje **R** Ir al menu, Runtime -> Change Runtime Tipe -> Runtime type -> R"
   ]
  },
  {
   "cell_type": "markdown",
   "metadata": {
    "id": "-Sy-sLMXlpHI"
   },
   "source": [
    "limpio el ambiente de R"
   ]
  },
  {
   "cell_type": "code",
   "execution_count": null,
   "metadata": {
    "id": "ZpST7lcHlpHI"
   },
   "outputs": [],
   "source": [
    "# limpio la memoria\n",
    "rm(list=ls(all.names=TRUE)) # remove all objects\n",
    "gc(full=TRUE, verbose=FALSE) # garbage collection"
   ]
  },
  {
   "cell_type": "markdown",
   "metadata": {
    "id": "jHhAx3cvlpHJ"
   },
   "source": [
    "* Instalacion de la libreria  rpart.plot  para dibujar el arbol\n",
    "* invocacion de las librerias  **data.table** y  **rpart**"
   ]
  },
  {
   "cell_type": "code",
   "execution_count": null,
   "metadata": {
    "id": "cbPnXeeqlpHJ"
   },
   "outputs": [],
   "source": [
    "# cargo las librerias que necesito\n",
    "require(\"data.table\")\n",
    "require(\"rpart\")\n",
    "require(\"parallel\")\n",
    "\n",
    "if (!require(\"primes\")) install.packages(\"primes\")\n",
    "require(\"primes\")\n",
    "\n",
    "require(\"ggplot2\")"
   ]
  },
  {
   "cell_type": "markdown",
   "metadata": {
    "id": "_GQk_NEUlpHK"
   },
   "source": [
    "###  Accion a Realizar\n",
    "PARAM$semilla_primigenia  debe reemplazarse por SU primer semilla"
   ]
  },
  {
   "cell_type": "code",
   "execution_count": null,
   "metadata": {
    "id": "Do801PIHlpHK"
   },
   "outputs": [],
   "source": [
    "PARAM <- list()\n",
    "PARAM$semilla_primigenia <- 102191\n",
    "PARAM$qsemillas_tope <- 50\n",
    "PARAM$training_pct <- 70L     # entre 1 y 100\n"
   ]
  },
  {
   "cell_type": "code",
   "execution_count": null,
   "metadata": {
    "id": "KlC7gTc7lpHK"
   },
   "outputs": [],
   "source": [
    "# los dos arboles\n",
    "PARAM$rpart1 <- list (\n",
    "  \"cp\" = -1,\n",
    "  \"minsplit\" = 800,\n",
    "  \"minbucket\" = 400,\n",
    "  \"maxdepth\" = 7\n",
    ")\n",
    "\n",
    "\n",
    "PARAM$rpart2 <- list (\n",
    "  \"cp\" = -1,\n",
    "  \"minsplit\" = 650,\n",
    "  \"minbucket\" = 300,\n",
    "  \"maxdepth\" = 6\n",
    ")\n"
   ]
  },
  {
   "cell_type": "code",
   "execution_count": null,
   "metadata": {
    "id": "I7hOkZrxlpHL"
   },
   "outputs": [],
   "source": [
    "# particionar agrega una columna llamada fold a un dataset\n",
    "#  que consiste en una particion estratificada segun agrupa\n",
    "\n",
    "# particionar( data=dataset, division=c(70,30),\n",
    "#  agrupa=clase_ternaria, seed=semilla)   crea una particion 70, 30\n",
    "\n",
    "particionar <- function(\n",
    "    data, division, agrupa = \"\",\n",
    "    campo = \"fold\", start = 1, seed = NA) {\n",
    "  if (!is.na(seed)) set.seed(seed)\n",
    "\n",
    "  bloque <- unlist(mapply(function(x, y) {\n",
    "    rep(y, x)\n",
    "  }, division, seq(from = start, length.out = length(division))))\n",
    "\n",
    "  data[, (campo) := sample(rep(bloque, ceiling(.N / length(bloque))))[1:.N],\n",
    "    by = agrupa\n",
    "  ]\n",
    "}\n"
   ]
  },
  {
   "cell_type": "code",
   "execution_count": null,
   "metadata": {
    "id": "vFpBSFBYlpHL"
   },
   "outputs": [],
   "source": [
    "DosArbolesEstimarGanancia <- function(semilla, training_pct, param_rpart1, param_rpart2) {\n",
    "  # particiono estratificadamente el dataset\n",
    "  particionar(dataset,\n",
    "    division = c(training_pct, 100L -training_pct),\n",
    "    agrupa = \"clase_ternaria\",\n",
    "    seed = semilla # aqui se usa SU semilla\n",
    "  )\n",
    "\n",
    "  # genero el modelo\n",
    "  # predecir clase_ternaria a partir del resto\n",
    "  modelo1 <- rpart(\"clase_ternaria ~ .\",\n",
    "    data = dataset[fold == 1], # fold==1  es training,  el 70% de los datos\n",
    "    xval = 0,\n",
    "    control = param_rpart1\n",
    "  ) # aqui van los parametros del arbol\n",
    "\n",
    "  # aplico el modelo a los datos de testing\n",
    "  prediccion1 <- predict(modelo1, # el modelo que genere recien\n",
    "    dataset[fold == 2], # fold==2  es testing, el 30% de los datos\n",
    "    type = \"prob\"\n",
    "  ) # type= \"prob\"  es que devuelva la probabilidad\n",
    "\n",
    "\n",
    "  # calculo la ganancia en testing  qu es fold==2\n",
    "  ganancia_test1 <- dataset[\n",
    "    fold == 2,\n",
    "    sum(ifelse(prediccion1[, \"BAJA+2\"] > 0.025,\n",
    "      ifelse(clase_ternaria == \"BAJA+2\", 117000, -3000),\n",
    "      0\n",
    "    ))\n",
    "  ]\n",
    "\n",
    "  # escalo la ganancia como si fuera todo el dataset\n",
    "  ganancia_test_normalizada1 <- ganancia_test1 / (( 100 - training_pct ) / 100 )\n",
    "\n",
    "  modelo2 <- rpart(\"clase_ternaria ~ .\",\n",
    "    data = dataset[fold == 1], # fold==1  es training,  el 70% de los datos\n",
    "    xval = 0,\n",
    "    control = param_rpart2\n",
    "  ) # aqui van los parametros del arbol\n",
    "\n",
    "  # aplico el modelo a los datos de testing\n",
    "  prediccion2 <- predict(modelo2, # el modelo que genere recien\n",
    "    dataset[fold == 2], # fold==2  es testing, el 30% de los datos\n",
    "    type = \"prob\"\n",
    "  ) # type= \"prob\"  es que devuelva la probabilidad\n",
    "\n",
    "\n",
    "  # calculo la ganancia en testing  qu es fold==2\n",
    "  ganancia_test2 <- dataset[\n",
    "    fold == 2,\n",
    "    sum(ifelse(prediccion2[, \"BAJA+2\"] > 0.025,\n",
    "      ifelse(clase_ternaria == \"BAJA+2\", 117000, -3000),\n",
    "      0\n",
    "    ))\n",
    "  ]\n",
    "\n",
    "  # escalo la ganancia como si fuera todo el dataset\n",
    "  ganancia_test_normalizada2 <- ganancia_test2 / (( 100 - training_pct ) / 100 )\n",
    "\n",
    "  return(list(\n",
    "    \"semilla\" = semilla,\n",
    "    \"ganancia1\" = ganancia_test_normalizada1,\n",
    "    \"ganancia2\" = ganancia_test_normalizada2\n",
    "  ))\n",
    "}"
   ]
  },
  {
   "cell_type": "code",
   "execution_count": null,
   "metadata": {
    "id": "Cp8RnA_NmE8g"
   },
   "outputs": [],
   "source": [
    "# 1  ->  el modelo 1 es mejor\n",
    "# 2  ->  el modelo 2 es mejor\n",
    "# 0  ->  No se pudo determinar con el tope de qsemillas_tope\n",
    "\n",
    "\n",
    "MejorArbol <- function( qsemillas_tope, training_pct, param_rpart1, param_rpart2) {\n",
    "\n",
    "  # genero numeros primos\n",
    "  primos <- generate_primes(min = 100000, max = 1000000)\n",
    "  set.seed(PARAM$semilla_primigenia) # inicializo\n",
    "  # me quedo con PARAM$qsemillas   semillas\n",
    "  semillas <- sample(primos, qsemillas_tope )\n",
    "\n",
    "  pvalue <- 1.0\n",
    "  isem <- 1\n",
    "  vgan1 <- c() # almaceno ganancias del modelo1\n",
    "  vgan2 <- c() # almaceno ganancias del modelo2\n",
    "\n",
    "  while( (isem <= qsemillas_tope)  & (pvalue > 0.05) ) {\n",
    "\n",
    "    res <- DosArbolesEstimarGanancia(\n",
    "       semillas[ isem ],\n",
    "       training_pct,\n",
    "       param_rpart1,\n",
    "       param_rpart2\n",
    "    )\n",
    "\n",
    "    vgan1 <- c( vgan1, res$ganancia1 )\n",
    "    vgan2 <- c( vgan2, res$ganancia2 )\n",
    "\n",
    "    wt <- wilcox.test( vgan1, vgan2, paired=TRUE )\n",
    "    pvalue <- wt$p.value\n",
    "\n",
    "    cat( isem, res$ganancia1, res$ganancia2, pvalue, \"\\n\" )\n",
    "    flush.console()\n",
    "    isem <- isem + 1\n",
    "  }\n",
    "\n",
    "  out <- 0\n",
    "\n",
    "  if( pvalue < 0.05 & mean(vgan1) > mean(vgan2)  )  out <- 1\n",
    "  if( pvalue < 0.05 & mean(vgan1) < mean(vgan2)  )  out <- 2\n",
    "\n",
    "\n",
    "  return( list( \"out\" = out,\n",
    "    \"qsemillas\" = length(vgan1),\n",
    "    \"m1\" = mean( vgan1 ),\n",
    "    \"m2\" = mean( vgan2 )\n",
    "   ) )\n",
    "}\n"
   ]
  },
  {
   "cell_type": "code",
   "execution_count": null,
   "metadata": {
    "id": "r1motpfOlpHM"
   },
   "outputs": [],
   "source": [
    "# carpeta de trabajo\n",
    "setwd(\"/content/buckets/b1/exp\")\n",
    "experimento <- \"exp209\"\n",
    "dir.create(experimento, showWarnings=FALSE)\n",
    "setwd( paste0(\"/content/buckets/b1/exp/\", experimento ))"
   ]
  },
  {
   "cell_type": "code",
   "execution_count": null,
   "metadata": {
    "id": "hT0LaKWumTSu"
   },
   "outputs": [],
   "source": [
    "# lectura del dataset\n",
    "dataset <- fread(\"/content/datasets/dataset_pequeno.csv\")\n",
    "\n",
    "# trabajo solo con los datos con clase, es decir 202107\n",
    "dataset <- dataset[clase_ternaria != \"\"]"
   ]
  },
  {
   "cell_type": "code",
   "execution_count": null,
   "metadata": {
    "id": "wsk0F77ambVW"
   },
   "outputs": [],
   "source": [
    "Sys.time()\n",
    "\n",
    "comparacion <- MejorArbol(\n",
    "   PARAM$qsemillas_tope,\n",
    "   PARAM$training_pct,\n",
    "   PARAM$rpart1,\n",
    "   PARAM$rpart2\n",
    " )\n",
    "\n",
    "\n",
    "print( comparacion )\n",
    "\n",
    "Sys.time()"
   ]
  },
  {
   "cell_type": "markdown",
   "metadata": {
    "id": "d2br1bgJlpHQ"
   },
   "source": [
    "### Acciones a realizar\n",
    "* Reportar la  los resultados en la planilla colaborativa hoja  **C2-Wilcox**\n"
   ]
  },
  {
   "cell_type": "markdown",
   "metadata": {
    "id": "x7SebtV2lpHQ"
   },
   "source": [
    "\n",
    "\n",
    "---\n",
    "\n"
   ]
  }
 ],
 "metadata": {
  "colab": {
   "include_colab_link": true,
   "provenance": []
  },
  "kernelspec": {
   "display_name": "R",
   "name": "ir"
  },
  "language_info": {
   "name": "R"
  }
 },
 "nbformat": 4,
 "nbformat_minor": 4
}
